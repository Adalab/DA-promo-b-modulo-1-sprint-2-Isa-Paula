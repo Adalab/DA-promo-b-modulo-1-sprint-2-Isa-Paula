{
 "cells": [
  {
   "cell_type": "code",
   "execution_count": null,
   "metadata": {},
   "outputs": [],
   "source": [
    "# Ejercicio 1. Cread una función que reciba 2 números enteros en forma de string como entrada, y dé como resultado la suma (también en forma de string)\n",
    "# Condiciones:\n",
    "# Si los dos parámetros que recibe la función son strings vacíos la función nos debe devolver \"0\"\n",
    "# Si el primer parámetro es un string vacío, la función nos devuelve el valor del segundo parámetro y viceversa."
   ]
  },
  {
   "cell_type": "code",
   "execution_count": 8,
   "metadata": {},
   "outputs": [],
   "source": [
    "def sumar_strings(numero,numero2):\n",
    "    '''\n",
    "    Esta función suma dos strings\n",
    "    Args:\n",
    "        numero: un número en formato string\n",
    "        numero2: otro número en formato string\n",
    "    Returs: \n",
    "        La funcion sumar_strings nos devuelve la suma de estos dos strings.\n",
    "    '''\n",
    "    if numero == '' and numero2 == '':\n",
    "        print('0')\n",
    "    elif numero == '':\n",
    "        print (numero2)\n",
    "    elif numero2 == '':\n",
    "        print(numero)\n",
    "    else: pass\n",
    "    return numero + numero2"
   ]
  },
  {
   "cell_type": "code",
   "execution_count": 9,
   "metadata": {},
   "outputs": [
    {
     "data": {
      "text/plain": [
       "'12'"
      ]
     },
     "execution_count": 9,
     "metadata": {},
     "output_type": "execute_result"
    }
   ],
   "source": [
    "sumar_strings('1','2')"
   ]
  },
  {
   "cell_type": "code",
   "execution_count": 11,
   "metadata": {},
   "outputs": [],
   "source": [
    "tipo_funcion = sumar_strings('1','2') # De qué tipo es nuestro return en la funcion sumar_strings"
   ]
  },
  {
   "cell_type": "code",
   "execution_count": 13,
   "metadata": {},
   "outputs": [
    {
     "data": {
      "text/plain": [
       "str"
      ]
     },
     "execution_count": 13,
     "metadata": {},
     "output_type": "execute_result"
    }
   ],
   "source": [
    "type(tipo_funcion) # Es un tipo string, ya que estamos sumando dos str"
   ]
  },
  {
   "cell_type": "code",
   "execution_count": null,
   "metadata": {},
   "outputs": [],
   "source": []
  }
 ],
 "metadata": {
  "kernelspec": {
   "display_name": "Python 3.9.7 ('base')",
   "language": "python",
   "name": "python3"
  },
  "language_info": {
   "codemirror_mode": {
    "name": "ipython",
    "version": 3
   },
   "file_extension": ".py",
   "mimetype": "text/x-python",
   "name": "python",
   "nbconvert_exporter": "python",
   "pygments_lexer": "ipython3",
   "version": "3.9.7"
  },
  "orig_nbformat": 4,
  "vscode": {
   "interpreter": {
    "hash": "40d3a090f54c6569ab1632332b64b2c03c39dcf918b08424e98f38b5ae0af88f"
   }
  }
 },
 "nbformat": 4,
 "nbformat_minor": 2
}
