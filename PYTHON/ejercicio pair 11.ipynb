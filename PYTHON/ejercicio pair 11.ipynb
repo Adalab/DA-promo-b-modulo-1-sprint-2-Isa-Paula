{
 "cells": [
  {
   "cell_type": "code",
   "execution_count": null,
   "metadata": {},
   "outputs": [],
   "source": [
    "#1.Nos muestre en que carpeta estamos trabajando.\n",
    "#2.Cree una carpeta que se llame \"aprendiendo-ficheros\". ⚠️ Tened en cuenta que si la carpeta ya existe no la podemos crear, nos devolverá un error. Incluye en la función un programa que evite que nos de un error si la carpeta ya existe.\n",
    "#3.Cree otra carpeta que se llame \"datos\" dentro de la carpeta \"aprendiendo-ficheros\". En esta carpeta \"datos\" guardaremos el fichero \"saludo.txt\" que os habéis descargado.\n",
    "#4.Cambiad el directorio de trabajo a la carpeta \"datos\". Antes de seguir chequead que estáis trabajando en la carpeta \"datos\".\n",
    "#5.Cambiad el nombre de la carpeta creada en el punto 2 a \"primera-toma-contacto\"\n",
    "#💡 Pistas para resolver este ejercicio 💡\n",
    "#1.\n",
    "#La función tendrá que recibir 3 parámetros:\n",
    "#El nombre del nombre de la primera carpeta\n",
    "#El nombre de la carpeta segunda carpeta\n",
    "#El nombre con el que queramos cambiar el nombre de la primera carpeta creada\n",
    "#2.\n",
    "#Para saber si las carpetas ya existen tendréis que usar lstdir(recordad que nos devuelve una lista de ficheros y carpetas).\n",
    "#3.\n",
    "#Para poder controlar los errores tendremos que usar un if loop, que si el fichero existe, nos devuelva un mensaje de que el fichero ya existe. En caso de que no exista, los deberéis crear y que la función nos muestre un mensaje de que se ha creado.\n",
    "#4.\n",
    "#Tendréis que ir cambiando de directorio para poder crear las carpetas y cambiar sus nombres."
   ]
  },
  {
   "cell_type": "code",
   "execution_count": 1,
   "metadata": {},
   "outputs": [],
   "source": [
    "import os\n",
    "import shutil"
   ]
  },
  {
   "cell_type": "code",
   "execution_count": 2,
   "metadata": {},
   "outputs": [],
   "source": [
    "os.chdir('/Users/paulacolladosaura/Desktop/adalab/Modulo 1/Pair Programming/caja negra')"
   ]
  },
  {
   "cell_type": "code",
   "execution_count": 1,
   "metadata": {},
   "outputs": [],
   "source": [
    "def primera_funcion(primera_carpeta,segunda_carpeta,nuevo_nombre_carpeta1):\n",
    "    directorio_actual = os.getcwd()  #No le podemos poner return, porque nos pararía el código. Para poder ver por pantalla, nuestra ubicación, le ponemos un print\n",
    "    directorio_actual\n",
    "    if nuevo_nombre_carpeta1 in os.listdir():\n",
    "        print('Este fichero ya existe')\n",
    "        os.chdir(nuevo_nombre_carpeta1)\n",
    "    else:\n",
    "        os.mkdir(primera_carpeta)\n",
    "        print('Se ha creado el directorio ',primera_carpeta)\n",
    "        os.chdir(primera_carpeta)\n",
    "    print(os.getcwd())\n",
    "    if segunda_carpeta in os.listdir():\n",
    "        print('Este directorio ya existe')\n",
    "    else:\n",
    "        os.mkdir(segunda_carpeta)\n",
    "        print('se ha creado' ,segunda_carpeta)\n",
    "    print(os.listdir())\n",
    "    os.chdir('../')\n",
    "    if nuevo_nombre_carpeta1 in os.listdir():\n",
    "        pass\n",
    "    else:\n",
    "        os.rename(primera_carpeta,nuevo_nombre_carpeta1)\n",
    "    \n",
    "   "
   ]
  },
  {
   "cell_type": "code",
   "execution_count": 2,
   "metadata": {},
   "outputs": [
    {
     "name": "stdout",
     "output_type": "stream",
     "text": [
      "Se ha creado el directorio  aprendiendo-ficheros\n",
      "/Users/paulacolladosaura/Desktop/adalab/Modulo 1/Pair Programming/caja negra/aprendiendo-ficheros\n",
      "se ha creado datos\n",
      "['datos']\n"
     ]
    }
   ],
   "source": [
    "primera_funcion ('aprendiendo-ficheros','datos','primera-toma-contacto')"
   ]
  },
  {
   "cell_type": "code",
   "execution_count": 21,
   "metadata": {},
   "outputs": [
    {
     "name": "stdout",
     "output_type": "stream",
     "text": [
      "/Users/paulacolladosaura/Desktop/adalab/Modulo 1/Pair Programming/DA-promo-b-modulo-1-sprint-2-Isa-Paula/PYTHON\n",
      "Este fichero ya existe\n",
      "/Users/paulacolladosaura/Desktop/adalab/Modulo 1/Pair Programming/DA-promo-b-modulo-1-sprint-2-Isa-Paula/PYTHON/primera-toma-contacto\n",
      "Este directorio ya existe\n",
      "['datos', '.DS_Store']\n"
     ]
    }
   ],
   "source": [
    "primera_funcion ('aprendiendo-ficheros','datos','primera-toma-contacto')"
   ]
  },
  {
   "cell_type": "code",
   "execution_count": null,
   "metadata": {},
   "outputs": [],
   "source": [
    " ubi_fichero = /Users/paulacolladosaura/Downloads/saludo.txt\n",
    "    os.listdir().append()"
   ]
  },
  {
   "cell_type": "code",
   "execution_count": null,
   "metadata": {},
   "outputs": [],
   "source": [
    "segunda_carpeta = segunda_carpeta + '/' + 'saludo.txt'"
   ]
  },
  {
   "cell_type": "code",
   "execution_count": null,
   "metadata": {},
   "outputs": [],
   "source": [
    "# 1.Lea el fichero que se llame \"saludo.txt y muestre su contenido completo.\n",
    "# 2.Muestra la línea 4 del fichero\n",
    "# 💡 Pistas para resolver este ejercicio 💡\n",
    "# 1.Antes de empezar, tendréis que saber cuál es vuestro directorio de trabajo.\n",
    "# 2.Tened en cuenta en que carpeta estáis. Si vuestro directorio de trabajo no es \"datos\" tendréis que \n",
    "# cambiarlo o poner la ruta relativa a la carpeta \"datos\".\n",
    "# 3.Usar if... else para evitar que se nos pare el código.\n",
    "# 4.Para cambiar el fichero podréis usar el comando input para preguntar el usuario donde está el fichero\n",
    "#  y que se pueda usar la ruta relativa o absoluta."
   ]
  },
  {
   "cell_type": "code",
   "execution_count": 11,
   "metadata": {},
   "outputs": [
    {
     "ename": "IndentationError",
     "evalue": "expected an indented block (15094964.py, line 7)",
     "output_type": "error",
     "traceback": [
      "\u001b[0;36m  File \u001b[0;32m\"/var/folders/fk/9dj5qplx5dv2l_dlsz8sf1pw0000gn/T/ipykernel_66578/15094964.py\"\u001b[0;36m, line \u001b[0;32m7\u001b[0m\n\u001b[0;31m    \u001b[0m\n\u001b[0m    ^\u001b[0m\n\u001b[0;31mIndentationError\u001b[0m\u001b[0;31m:\u001b[0m expected an indented block\n"
     ]
    }
   ],
   "source": [
    "def leer_archivo ():\n",
    "    ruta_trabajo = os.getcwd()\n",
    "    if ruta_trabajo == 'datos':\n",
    "        pass\n",
    "    else:\n",
    "        \n",
    "        \n",
    "    "
   ]
  },
  {
   "cell_type": "code",
   "execution_count": 1,
   "metadata": {},
   "outputs": [
    {
     "data": {
      "text/plain": [
       "'/Users/paulacolladosaura/Desktop/adalab/Modulo 1/Pair Programming/caja negra'"
      ]
     },
     "execution_count": 1,
     "metadata": {},
     "output_type": "execute_result"
    }
   ],
   "source": [
    "os.getcwd()"
   ]
  },
  {
   "cell_type": "code",
   "execution_count": 3,
   "metadata": {},
   "outputs": [],
   "source": [
    "os.chdir('./primera-toma-contacto/datos')"
   ]
  },
  {
   "cell_type": "code",
   "execution_count": 5,
   "metadata": {},
   "outputs": [
    {
     "data": {
      "text/plain": [
       "'/Users/paulacolladosaura/Desktop/adalab/Modulo 1/Pair Programming/caja negra/primera-toma-contacto/datos'"
      ]
     },
     "execution_count": 5,
     "metadata": {},
     "output_type": "execute_result"
    }
   ],
   "source": [
    "os.getcwd()"
   ]
  },
  {
   "cell_type": "code",
   "execution_count": 14,
   "metadata": {},
   "outputs": [
    {
     "data": {
      "text/plain": [
       "'/Users/paulacolladosaura/Desktop/adalab/Modulo 1/Pair Programming/caja negra/primera-toma-contacto/datos'"
      ]
     },
     "execution_count": 14,
     "metadata": {},
     "output_type": "execute_result"
    }
   ],
   "source": [
    "ruta_trabajo = os.getcwd()\n",
    "ruta_trabajo"
   ]
  },
  {
   "cell_type": "code",
   "execution_count": 15,
   "metadata": {},
   "outputs": [
    {
     "name": "stdout",
     "output_type": "stream",
     "text": [
      "nanai\n"
     ]
    }
   ],
   "source": [
    "if os.listdir(ruta_trabajo) == './saluto.txt':\n",
    "    print(3)\n",
    "else:\n",
    "    print('nanai')"
   ]
  },
  {
   "cell_type": "code",
   "execution_count": 16,
   "metadata": {},
   "outputs": [
    {
     "name": "stdout",
     "output_type": "stream",
     "text": [
      "nanai\n"
     ]
    }
   ],
   "source": [
    "if './saluto.txt' in os.listdir(ruta_trabajo):\n",
    "    print(3)\n",
    "else:\n",
    "    print('nanai')"
   ]
  },
  {
   "cell_type": "code",
   "execution_count": 17,
   "metadata": {},
   "outputs": [
    {
     "name": "stdout",
     "output_type": "stream",
     "text": [
      "nanai\n"
     ]
    }
   ],
   "source": [
    "if ruta_trabajo == './datos':\n",
    "    print(3)\n",
    "else:\n",
    "    print('nanai')"
   ]
  },
  {
   "cell_type": "code",
   "execution_count": 29,
   "metadata": {},
   "outputs": [],
   "source": [
    "def leer_archivo ():\n",
    "    print(os.getcwd())\n",
    "    ubi_trabajo = 'DA-promo-b-modulo-1-sprint-2-Isa-Paula/PYTHON/primera-toma-contacto/datos/saludo.txt'\n",
    "    if os.getcwd() != ubi_trabajo:\n",
    "        os.chdir(input('Dónde tienes el fichero?'))\n",
    "        print('Ahora estás en el directorio correcto')\n",
    "    else:\n",
    "        print('Ya estabas en el directorio correcto')"
   ]
  },
  {
   "cell_type": "code",
   "execution_count": 32,
   "metadata": {},
   "outputs": [
    {
     "name": "stdout",
     "output_type": "stream",
     "text": [
      "/Users/paulacolladosaura/Desktop/adalab/Modulo 1/Pair Programming/DA-promo-b-modulo-1-sprint-2-Isa-Paula/PYTHON\n"
     ]
    },
    {
     "ename": "FileNotFoundError",
     "evalue": "[Errno 2] No such file or directory: '/primera-toma-de-contacto/datos/saludo.txt'",
     "output_type": "error",
     "traceback": [
      "\u001b[0;31m---------------------------------------------------------------------------\u001b[0m",
      "\u001b[0;31mFileNotFoundError\u001b[0m                         Traceback (most recent call last)",
      "\u001b[0;32m/var/folders/fk/9dj5qplx5dv2l_dlsz8sf1pw0000gn/T/ipykernel_61768/2579838273.py\u001b[0m in \u001b[0;36m<module>\u001b[0;34m\u001b[0m\n\u001b[0;32m----> 1\u001b[0;31m \u001b[0mleer_archivo\u001b[0m \u001b[0;34m(\u001b[0m\u001b[0;34m)\u001b[0m\u001b[0;34m\u001b[0m\u001b[0;34m\u001b[0m\u001b[0m\n\u001b[0m",
      "\u001b[0;32m/var/folders/fk/9dj5qplx5dv2l_dlsz8sf1pw0000gn/T/ipykernel_61768/3190078413.py\u001b[0m in \u001b[0;36mleer_archivo\u001b[0;34m()\u001b[0m\n\u001b[1;32m      3\u001b[0m     \u001b[0mubi_trabajo\u001b[0m \u001b[0;34m=\u001b[0m \u001b[0;34m'DA-promo-b-modulo-1-sprint-2-Isa-Paula/PYTHON/primera-toma-contacto/datos/saludo.txt'\u001b[0m\u001b[0;34m\u001b[0m\u001b[0;34m\u001b[0m\u001b[0m\n\u001b[1;32m      4\u001b[0m     \u001b[0;32mif\u001b[0m \u001b[0mos\u001b[0m\u001b[0;34m.\u001b[0m\u001b[0mgetcwd\u001b[0m\u001b[0;34m(\u001b[0m\u001b[0;34m)\u001b[0m \u001b[0;34m!=\u001b[0m \u001b[0mubi_trabajo\u001b[0m\u001b[0;34m:\u001b[0m\u001b[0;34m\u001b[0m\u001b[0;34m\u001b[0m\u001b[0m\n\u001b[0;32m----> 5\u001b[0;31m         \u001b[0mos\u001b[0m\u001b[0;34m.\u001b[0m\u001b[0mchdir\u001b[0m\u001b[0;34m(\u001b[0m\u001b[0minput\u001b[0m\u001b[0;34m(\u001b[0m\u001b[0;34m'Dónde tienes el fichero?'\u001b[0m\u001b[0;34m)\u001b[0m\u001b[0;34m)\u001b[0m\u001b[0;34m\u001b[0m\u001b[0;34m\u001b[0m\u001b[0m\n\u001b[0m\u001b[1;32m      6\u001b[0m         \u001b[0mprint\u001b[0m\u001b[0;34m(\u001b[0m\u001b[0;34m'Ahora estás en el directorio correcto'\u001b[0m\u001b[0;34m)\u001b[0m\u001b[0;34m\u001b[0m\u001b[0;34m\u001b[0m\u001b[0m\n\u001b[1;32m      7\u001b[0m     \u001b[0;32melse\u001b[0m\u001b[0;34m:\u001b[0m\u001b[0;34m\u001b[0m\u001b[0;34m\u001b[0m\u001b[0m\n",
      "\u001b[0;31mFileNotFoundError\u001b[0m: [Errno 2] No such file or directory: '/primera-toma-de-contacto/datos/saludo.txt'"
     ]
    }
   ],
   "source": [
    "leer_archivo ()"
   ]
  },
  {
   "cell_type": "code",
   "execution_count": null,
   "metadata": {},
   "outputs": [],
   "source": []
  }
 ],
 "metadata": {
  "kernelspec": {
   "display_name": "Python 3.9.7 ('base')",
   "language": "python",
   "name": "python3"
  },
  "language_info": {
   "codemirror_mode": {
    "name": "ipython",
    "version": 3
   },
   "file_extension": ".py",
   "mimetype": "text/x-python",
   "name": "python",
   "nbconvert_exporter": "python",
   "pygments_lexer": "ipython3",
   "version": "3.9.7"
  },
  "orig_nbformat": 4,
  "vscode": {
   "interpreter": {
    "hash": "40d3a090f54c6569ab1632332b64b2c03c39dcf918b08424e98f38b5ae0af88f"
   }
  }
 },
 "nbformat": 4,
 "nbformat_minor": 2
}
