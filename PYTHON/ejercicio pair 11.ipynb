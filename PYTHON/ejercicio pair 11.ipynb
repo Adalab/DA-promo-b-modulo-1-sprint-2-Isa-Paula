{
 "cells": [
  {
   "cell_type": "code",
   "execution_count": null,
   "metadata": {},
   "outputs": [],
   "source": [
    "#1.Nos muestre en que carpeta estamos trabajando.\n",
    "#2.Cree una carpeta que se llame \"aprendiendo-ficheros\". ⚠️ Tened en cuenta que si la carpeta ya existe no la podemos crear, nos devolverá un error. Incluye en la función un programa que evite que nos de un error si la carpeta ya existe.\n",
    "#3.Cree otra carpeta que se llame \"datos\" dentro de la carpeta \"aprendiendo-ficheros\". En esta carpeta \"datos\" guardaremos el fichero \"saludo.txt\" que os habéis descargado.\n",
    "#4.Cambiad el directorio de trabajo a la carpeta \"datos\". Antes de seguir chequead que estáis trabajando en la carpeta \"datos\".\n",
    "#5.Cambiad el nombre de la carpeta creada en el punto 2 a \"primera-toma-contacto\"\n",
    "#💡 Pistas para resolver este ejercicio 💡\n",
    "#1.\n",
    "#La función tendrá que recibir 3 parámetros:\n",
    "#El nombre del nombre de la primera carpeta\n",
    "#El nombre de la carpeta segunda carpeta\n",
    "#El nombre con el que queramos cambiar el nombre de la primera carpeta creada\n",
    "#2.\n",
    "#Para saber si las carpetas ya existen tendréis que usar lstdir(recordad que nos devuelve una lista de ficheros y carpetas).\n",
    "#3.\n",
    "#Para poder controlar los errores tendremos que usar un if loop, que si el fichero existe, nos devuelva un mensaje de que el fichero ya existe. En caso de que no exista, los deberéis crear y que la función nos muestre un mensaje de que se ha creado.\n",
    "#4.\n",
    "#Tendréis que ir cambiando de directorio para poder crear las carpetas y cambiar sus nombres."
   ]
  },
  {
   "cell_type": "code",
   "execution_count": 1,
   "metadata": {},
   "outputs": [],
   "source": [
    "import os\n",
    "import shutil"
   ]
  },
  {
   "cell_type": "code",
   "execution_count": 2,
   "metadata": {},
   "outputs": [],
   "source": [
    "os.chdir('/Users/paulacolladosaura/Desktop/adalab/Modulo 1/Pair Programming/caja negra')"
   ]
  },
  {
   "cell_type": "code",
   "execution_count": 1,
   "metadata": {},
   "outputs": [],
   "source": [
    "def primera_funcion(primera_carpeta,segunda_carpeta,nuevo_nombre_carpeta1):\n",
    "    directorio_actual = os.getcwd()  #No le podemos poner return, porque nos pararía el código. Para poder ver por pantalla, nuestra ubicación, le ponemos un print\n",
    "    directorio_actual\n",
    "    if nuevo_nombre_carpeta1 in os.listdir():\n",
    "        print('Este fichero ya existe')\n",
    "        os.chdir(nuevo_nombre_carpeta1)\n",
    "    else:\n",
    "        os.mkdir(primera_carpeta)\n",
    "        print('Se ha creado el directorio ',primera_carpeta)\n",
    "        os.chdir(primera_carpeta)\n",
    "    print(os.getcwd())\n",
    "    if segunda_carpeta in os.listdir():\n",
    "        print('Este directorio ya existe')\n",
    "    else:\n",
    "        os.mkdir(segunda_carpeta)\n",
    "        print('se ha creado' ,segunda_carpeta)\n",
    "    print(os.listdir())\n",
    "    os.chdir('../')\n",
    "    if nuevo_nombre_carpeta1 in os.listdir():\n",
    "        pass\n",
    "    else:\n",
    "        os.rename(primera_carpeta,nuevo_nombre_carpeta1)\n",
    "    \n",
    "   "
   ]
  },
  {
   "cell_type": "code",
   "execution_count": 2,
   "metadata": {},
   "outputs": [
    {
     "name": "stdout",
     "output_type": "stream",
     "text": [
      "Se ha creado el directorio  aprendiendo-ficheros\n",
      "/Users/paulacolladosaura/Desktop/adalab/Modulo 1/Pair Programming/caja negra/aprendiendo-ficheros\n",
      "se ha creado datos\n",
      "['datos']\n"
     ]
    }
   ],
   "source": [
    "primera_funcion ('aprendiendo-ficheros','datos','primera-toma-contacto')"
   ]
  },
  {
   "cell_type": "code",
   "execution_count": 21,
   "metadata": {},
   "outputs": [
    {
     "name": "stdout",
     "output_type": "stream",
     "text": [
      "/Users/paulacolladosaura/Desktop/adalab/Modulo 1/Pair Programming/DA-promo-b-modulo-1-sprint-2-Isa-Paula/PYTHON\n",
      "Este fichero ya existe\n",
      "/Users/paulacolladosaura/Desktop/adalab/Modulo 1/Pair Programming/DA-promo-b-modulo-1-sprint-2-Isa-Paula/PYTHON/primera-toma-contacto\n",
      "Este directorio ya existe\n",
      "['datos', '.DS_Store']\n"
     ]
    }
   ],
   "source": [
    "primera_funcion ('aprendiendo-ficheros','datos','primera-toma-contacto')"
   ]
  },
  {
   "cell_type": "code",
   "execution_count": null,
   "metadata": {},
   "outputs": [],
   "source": [
    "# 1.Lea el fichero que se llame \"saludo.txt y muestre su contenido completo.\n",
    "# 2.Muestra la línea 4 del fichero\n",
    "# 💡 Pistas para resolver este ejercicio 💡\n",
    "# 1.Antes de empezar, tendréis que saber cuál es vuestro directorio de trabajo.\n",
    "# 2.Tened en cuenta en que carpeta estáis. Si vuestro directorio de trabajo no es \"datos\" tendréis que \n",
    "# cambiarlo o poner la ruta relativa a la carpeta \"datos\".\n",
    "# 3.Usar if... else para evitar que se nos pare el código.\n",
    "# 4.Para cambiar el fichero podréis usar el comando input para preguntar el usuario donde está el fichero\n",
    "#  y que se pueda usar la ruta relativa o absoluta."
   ]
  },
  {
   "cell_type": "code",
   "execution_count": 14,
   "metadata": {},
   "outputs": [],
   "source": [
    "def leer_archivo ():\n",
    "    ruta_trabajo = os.getcwd()\n",
    "    print(ruta_trabajo)\n",
    "    if 'datos' in ruta_trabajo:\n",
    "        pass\n",
    "    else:\n",
    "        input('indica la ruta relativa o absoluta de donde tienes la carpeta datos')\n",
    "    with open('saludo.txt','r') as f:\n",
    "        r = f.readlines()\n",
    "    return r, r[4]\n"
   ]
  },
  {
   "cell_type": "code",
   "execution_count": 15,
   "metadata": {},
   "outputs": [
    {
     "name": "stdout",
     "output_type": "stream",
     "text": [
      "/Users/paulacolladosaura/Desktop/adalab/Modulo 1/Pair Programming/caja negra/primera-toma-contacto/datos\n"
     ]
    },
    {
     "data": {
      "text/plain": [
       "(['Hola Adalabers!!!\\n',\n",
       "  '\\n',\n",
       "  'Estamos en la sesión de pair-programming para familiarizarnos con la gestión de carpetas y ficheros desde Python 🙂🌊\\n',\n",
       "  '\\n',\n",
       "  'Esto esta siendo suuuper divertidooooo'],\n",
       " 'Esto esta siendo suuuper divertidooooo')"
      ]
     },
     "execution_count": 15,
     "metadata": {},
     "output_type": "execute_result"
    }
   ],
   "source": [
    "leer_archivo()"
   ]
  },
  {
   "cell_type": "code",
   "execution_count": null,
   "metadata": {},
   "outputs": [],
   "source": [
    "# LECTURA Y ESCRITURA DE FICHEROS\n",
    "#  1. La función debe recibir 4 parámetros:\n",
    "# Nombre del fichero, incluyendo la extensión.\n",
    "# Como queremos leer el fichero.\n",
    "# El encoding del fichero.\n",
    "# El contenido que queremos escribir en el fichero.\n",
    "\n",
    "# 2. Condiciones de la función:\n",
    "# Si el fichero no existe, debe crearlo, insertar contenido y mostrar su contenido.\n",
    "# Si el fichero existe pregunta al usuario si quiere sobreescribirlo. En caso de Si, \n",
    "# sobreescribe el fichero, insertad contenido y leedlo. En caso de No, no hace nada.\n",
    "\n",
    "# 💡 Pistas 💡\n",
    "# Para chequear si un fichero existe, podemos usar la función os.listdir() que devuelve una\n",
    "#  lista con los nombres de los ficheros que hay en un directorio.\n",
    "# Para crear un fichero, podemos usar la función open() que recibe como parámetros el nombre\n",
    "#  del fichero, el modo de apertura y el encoding.\n",
    "# Para chequear si el fichero existe debéis usar los for loops y el método in para comprobar\n",
    "#  si el nombre del fichero está en la lista de ficheros.\n",
    "# Usar un input para preguntar al usuario si quiere sobreescribir el fichero.\n",
    "# Para sobreescribir el fichero, podemos usar la función open() que recibe como parámetros \n",
    "# el nombre del fichero, el modo de apertura y el encoding.\n",
    "# Strings que cubren más que una línea tienen que ser iniciados y cerrados con tres comillas\n",
    "#  \"\"\".#"
   ]
  },
  {
   "cell_type": "code",
   "execution_count": 16,
   "metadata": {},
   "outputs": [],
   "source": [
    "import os\n",
    "import xml.etree.ElementTree as ET"
   ]
  },
  {
   "cell_type": "code",
   "execution_count": 20,
   "metadata": {},
   "outputs": [],
   "source": [
    "contenido = \"\"\"\n",
    "Thu Oct 31 08:11:39 2002\n",
    "        Return-Path: <bensul2004nng@spinfinder.com>\n",
    "        X-Sieve: cmu-sieve 2.0\n",
    "        Return-Path: <bensul2004nng@spinfinder.com>\n",
    "        Message-Id: <200210311310.g9VDANt24674@bloodwork.mr.itd.UM>\n",
    "        From: \"Mr. Ben Suleman\" <bensul2004nng@spinfinder.com>\n",
    "        Date: Thu, 31 Oct 2002 05:10:00\n",
    "        To: R@M\n",
    "        Subject: URGENT ASSISTANCE /RELATIONSHIP (P)\n",
    "        MIME-Version: 1.0\n",
    "        Content-Type: text/plain;charset=\"iso-8859-1\"\n",
    "        Content-Transfer-Encoding: 7bit\n",
    "        Status: O\n",
    "\n",
    "        Dear Friend,\n",
    "\n",
    "        I am Mr. Ben Suleman a custom officer and work as Assistant controller of the Customs and Excise department Of the Federal Ministry of Internal Affairs stationed at the Murtala Mohammed International Airport, Ikeja, Lagos-Nigeria.\n",
    "\n",
    "        After the sudden death of the former Head of state of Nigeria General Sanni Abacha on June 8th 1998 his aides and immediate members of his family were arrested while trying to escape from Nigeria in a Chartered jet to Saudi Arabia with 6 trunk boxes Marked \"Diplomatic Baggage\". Acting on a tip-off as they attempted to board the Air Craft,my officials carried out a thorough search on the air craft and discovered that the 6 trunk boxes contained foreign currencies amounting to US$197,570,000.00(One Hundred and  Ninety-Seven Million Five Hundred Seventy Thousand United States Dollars).\n",
    "\n",
    "        I declared only (5) five boxes to the government and withheld one (1) in my custody containing the sum of (US$30,000,000.00) Thirty Million United States Dollars Only, which has been disguised to prevent their being discovered during transportation process.Due to several media reports on the late head of state about all the money him and his co-government officials stole from our government treasury amounting\n",
    "        to US$55 Billion Dollars (ref:ngrguardiannews.com) of July 2nd 1999. Even the London times of July 1998 reported that General Abacha has over US$3.Billion dollars in one account overseas. We decided to conceal this one (1)box till the situation is calm and quite on the issue. The box was thus deposited with a security company here in Nigeria and tagged as \"Precious Stones and Jewellry\" in other that its\n",
    "        content will not be discovered. Now that all is calm, we (myself and two of my colleagues in the operations team) are now ready to move this box out of the country through a diplomatic arrangement which is the safest means. \n",
    "\n",
    "        However as government officials the Civil Service Code of Conduct does not allow us by law to operate any foreign account or own foreign investment and the amount of money that can be found in our account\n",
    "        cannot be more than our salary on the average, thus our handicapp and our need for your assistance to help collect and keep safely in your account this money.\n",
    "\n",
    "        Therefore we want you to assist us in moving this money out of Nigeria. We shall definitely compensate you handsomely for the assistance. We can do this by instructing the Security Company here in Nigeria to\n",
    "        move the consignment to their affiliate branch office outside Nigeria through diplomatic means and the consignment will be termed as Precious Stones and Jewelleries\" which you bought during your visit to Nigeria and is being transfered to your country from here for safe keeping. Then we can arrange to meet at the destination country to take the delivery of the consignment. You will thereafter open an account there and lodge the Money there and gradually instruct remittance to your Country. \n",
    "\n",
    "        This business is 100% risk free for you so please treat this matter with utmost confidentiality .If you indicate your interest to assist us please just e-mail me for more Explanation on how we plan to execute the transaction.\n",
    "\n",
    "        Expecting your response urgently.\n",
    "\n",
    "        Best regards,\n",
    "\n",
    "        Mr. Ben Suleman\n",
    "\n",
    "        Wed Oct 30 21:41:56 2002\n",
    "        Return-Path: <james_ngola2002@maktoob.com>\n",
    "        X-Sieve: cmu-sieve 2.0\n",
    "        Return-Path: <james_ngola2002@maktoob.com>\n",
    "        Message-Id: <200210310241.g9V2fNm6028281@cs.CU>\n",
    "        From: \"MR. JAMES NGOLA.\" <james_ngola2002@maktoob.com>\n",
    "        Reply-To: james_ngola2002@maktoob.com\n",
    "        To: webmaster@aclweb.org\n",
    "        Date: Thu, 31 Oct 2002 02:38:20 +0000\n",
    "        Subject: URGENT BUSINESS ASSISTANCE AND PARTNERSHIP\n",
    "        X-Mailer: Microsoft Outlook Express 5.00.2919.6900 DM\n",
    "        MIME-Version: 1.0\n",
    "        Content-Type: text/plain; charset=\"us-ascii\"\n",
    "        Content-Transfer-Encoding: 8bit\n",
    "        X-MIME-Autoconverted: from quoted-printable to 8bit by sideshowmel.si.UM id g9V2foW24311\n",
    "        Status: O\n",
    "\n",
    "        FROM:MR. JAMES NGOLA.\n",
    "        CONFIDENTIAL TEL: 233-27-587908.\n",
    "        E-MAIL: (james_ngola2002@maktoob.com).\n",
    "\n",
    "        URGENT BUSINESS ASSISTANCE AND PARTNERSHIP.\n",
    "\n",
    "\n",
    "        DEAR FRIEND,\n",
    "\n",
    "        I AM ( DR.) JAMES NGOLA, THE PERSONAL ASSISTANCE TO THE LATE CONGOLESE (PRESIDENT LAURENT KABILA) WHO WAS ASSASSINATED BY HIS BODY GUARD ON 16TH JAN. 2001.\n",
    "\n",
    "\n",
    "        THE INCIDENT OCCURRED IN OUR PRESENCE WHILE WE WERE HOLDING MEETING WITH HIS EXCELLENCY OVER THE FINANCIAL RETURNS FROM THE DIAMOND SALES IN THE AREAS CONTROLLED BY (D.R.C.) DEMOCRATIC REPUBLIC OF CONGO FORCES AND THEIR FOREIGN ALLIES ANGOLA AND ZIMBABWE, HAVING RECEIVED THE PREVIOUS DAY (USD$100M) ONE HUNDRED MILLION UNITED STATES DOLLARS, CASH IN THREE DIPLOMATIC BOXES ROUTED THROUGH ZIMBABWE.\n",
    "\n",
    "        MY PURPOSE OF WRITING YOU THIS LETTER IS TO SOLICIT FOR YOUR ASSISTANCE AS TO BE A COVER TO THE FUND AND ALSO COLLABORATION IN MOVING THE SAID FUND INTO YOUR BANK ACCOUNT THE SUM OF (USD$25M) TWENTY FIVE MILLION UNITED STATES DOLLARS ONLY, WHICH I DEPOSITED WITH A SECURITY COMPANY IN GHANA, IN A DIPLOMATIC BOX AS GOLDS WORTH (USD$25M) TWENTY FIVE MILLION UNITED STATES DOLLARS ONLY FOR SAFE KEEPING IN A SECURITY VAULT FOR ANY FURTHER INVESTMENT PERHAPS IN YOUR COUNTRY. \n",
    "\n",
    "        YOU WERE INTRODUCED TO ME BY A RELIABLE FRIEND OF MINE WHO IS A TRAVELLER,AND ALSO A MEMBER OF CHAMBER OF COMMERCE AS A RELIABLE AND TRUSTWORTHY PERSON WHOM I CAN RELY ON AS FOREIGN PARTNER, EVEN THOUGH THE NATURE OF THE TRANSACTION WAS NOT REVEALED TO HIM FOR SECURITY REASONS.\n",
    "\n",
    "\n",
    "        THE (USD$25M) WAS PART OF A PROCEEDS FROM DIAMOND TRADE MEANT FOR THE LATE PRESIDENT LAURENT KABILA WHICH WAS DELIVERED THROUGH ZIMBABWE IN DIPLOMATIC BOXES. THE BOXES WERE KEPT UNDER MY CUSTODY BEFORE THE SAD EVENT THAT TOOK THE LIFE OF (MR. PRESIDENT).THE CONFUSION THAT ENSUED AFTER THE ASSASSINATION AND THE SPORADIC SHOOTING AMONG THE FACTIONS, I HAVE TO RUN AWAY FROM THE COUNTRY FOR MY DEAR LIFE AS I AM NOT A SOLDIER BUT A CIVIL SERVANT I CROSSED RIVER CONGO TO OTHER SIDE OF CONGO LIBREVILLE FROM THERE I MOVED TO THE THIRD COUNTRY GHANA WHERE I AM PRESENTLY TAKING REFUGE. \n",
    "\n",
    "        AS A MATTER OF FACT, WHAT I URGENTLY NEEDED FROM YOU IS YOUR ASSISTANCE IN MOVING THIS MONEY INTO YOUR ACCOUNT IN YOUR COUNTRY FOR INVESTMENT WITHOUT RAISING EYEBROW. FOR YOUR ASSISTANCE I WILL GIVE YOU 20% OF THE TOTAL SUM AS YOUR OWN SHARE WHEN THE MONEY GETS TO YOUR ACCOUNT, WHILE 75% WILL BE FOR ME, OF WHICH WITH YOUR KIND ADVICE I HOPE TO INVEST IN PROFITABLE VENTURE IN YOUR COUNTRY IN OTHER TO SETTLE DOWN FOR MEANINGFUL LIFE, AS I AM TIRED OF LIVING IN A WAR ENVIRONMENT. \n",
    "\n",
    "        THE REMAINING 5% WILL BE USED TO OFFSET ANY COST INCURRED IN THE CAUSE OF MOVING THE MONEY TO YOUR ACCOUNT. IF THE PROPOSAL IS ACCEPTABLE TO YOU PLEASE CONTACT ME IMMEDIATELY THROUGH THE ABOVE TELEPHONE AND E-MAIL, TO ENABLE ME ARRANGE FACE TO FACE MEETING WITH YOU IN GHANA FOR THE CLEARANCE OF THE FUNDS BEFORE TRANSFRING IT TO YOUR BANK ACCOUNT AS SEEING IS BELIEVING. \n",
    "\n",
    "        FINALLY, IT IS IMPORTANT ALSO THAT I LET YOU UNDERSTAND THAT THERE IS NO RISK INVOLVED WHATSOEVER AS THE MONEY HAD NO RECORD IN KINSHASA FOR IT WAS MEANT FOR THE PERSONAL USE OF (MR. PRESIDEND ) BEFORE THE NEFARIOUS INCIDENT OCCURRED, AND ALSO I HAVE ALL THE NECESSARY DOCUMENTS AS REGARDS TO THE FUNDS INCLUDING THE (CERTIFICATE OF DEPOSIT), AS I AM THE DEPOSITOR OF THE CONSIGNMENT.\n",
    "\n",
    "\n",
    "        LOOKING FORWARD TO YOUR URGENT RESPONSE.\n",
    "\n",
    "        YOUR SINCERELY,\n",
    "\n",
    "        MR. JAMES NGOLA. \"\"\"\n"
   ]
  },
  {
   "cell_type": "code",
   "execution_count": 50,
   "metadata": {},
   "outputs": [],
   "source": [
    "def lectura_y_escritura_de_ficheros (fichero, contenido, mode='r', encoding='UTF-8', ):\n",
    "    directorio_actual = os.getcwd()\n",
    "    print(f'el directorio actual de trabajo es {directorio_actual}')\n",
    "    carpeta_actual = directorio_actual.split('/')[-1]\n",
    "    print(f'la carpeta actual de trabajo es {carpeta_actual}')\n",
    "    \n",
    "    if fichero not in os.listdir():\n",
    "        with open (f'../{carpeta_actual}/{fichero},{encoding},x') as c:\n",
    "            pass\n",
    "        with open (f'../{carpeta_actual}/{fichero},{encoding},w') as w:\n",
    "            w.write(contenido)\n",
    "        with open (f'../{carpeta_actual}/{fichero},{encoding}') as f:\n",
    "            f.readlines()\n",
    "    else:\n",
    "        print(f'el fichero ya existe')\n",
    "        pregunta = input('¿Quieres sobreescribir el fichero? S/N')\n",
    "        respuesta = {'S': 'Si', 'N':'No'}\n",
    "\n",
    "        while pregunta not in respuesta.keys():\n",
    "            print(\"no nos has pasado una opcion valida, intentalo de nuevo\")\n",
    "            respuesta = input(\"Quieres sobreescribir el fichero?: S/N\")\n",
    "        print(f\"Tu respuesta fue {respuesta[pregunta]}\")\n",
    "\n",
    "        if pregunta == \"S\":\n",
    "            with open(f'../{carpeta_actual}/{fichero}', 'w') as w:\n",
    "                w.write(contenido)\n",
    "            with open(f'../{carpeta_actual}/{fichero}') as f:\n",
    "                return f.readlines()\n",
    "        else:\n",
    "            pass\n",
    "    \n",
    "    \n"
   ]
  },
  {
   "cell_type": "code",
   "execution_count": 51,
   "metadata": {},
   "outputs": [
    {
     "name": "stdout",
     "output_type": "stream",
     "text": [
      "el directorio actual de trabajo es /Users/paulacolladosaura/Desktop/adalab/Modulo 1/Pair Programming/caja negra/primera-toma-contacto/datos\n",
      "la carpeta actual de trabajo es datos\n",
      "el fichero ya existe\n",
      "Tu respuesta fue Si\n"
     ]
    },
    {
     "data": {
      "text/plain": [
       "['\\n',\n",
       " 'Thu Oct 31 08:11:39 2002\\n',\n",
       " '        Return-Path: <bensul2004nng@spinfinder.com>\\n',\n",
       " '        X-Sieve: cmu-sieve 2.0\\n',\n",
       " '        Return-Path: <bensul2004nng@spinfinder.com>\\n',\n",
       " '        Message-Id: <200210311310.g9VDANt24674@bloodwork.mr.itd.UM>\\n',\n",
       " '        From: \"Mr. Ben Suleman\" <bensul2004nng@spinfinder.com>\\n',\n",
       " '        Date: Thu, 31 Oct 2002 05:10:00\\n',\n",
       " '        To: R@M\\n',\n",
       " '        Subject: URGENT ASSISTANCE /RELATIONSHIP (P)\\n',\n",
       " '        MIME-Version: 1.0\\n',\n",
       " '        Content-Type: text/plain;charset=\"iso-8859-1\"\\n',\n",
       " '        Content-Transfer-Encoding: 7bit\\n',\n",
       " '        Status: O\\n',\n",
       " '\\n',\n",
       " '        Dear Friend,\\n',\n",
       " '\\n',\n",
       " '        I am Mr. Ben Suleman a custom officer and work as Assistant controller of the Customs and Excise department Of the Federal Ministry of Internal Affairs stationed at the Murtala Mohammed International Airport, Ikeja, Lagos-Nigeria.\\n',\n",
       " '\\n',\n",
       " '        After the sudden death of the former Head of state of Nigeria General Sanni Abacha on June 8th 1998 his aides and immediate members of his family were arrested while trying to escape from Nigeria in a Chartered jet to Saudi Arabia with 6 trunk boxes Marked \"Diplomatic Baggage\". Acting on a tip-off as they attempted to board the Air Craft,my officials carried out a thorough search on the air craft and discovered that the 6 trunk boxes contained foreign currencies amounting to US$197,570,000.00(One Hundred and  Ninety-Seven Million Five Hundred Seventy Thousand United States Dollars).\\n',\n",
       " '\\n',\n",
       " '        I declared only (5) five boxes to the government and withheld one (1) in my custody containing the sum of (US$30,000,000.00) Thirty Million United States Dollars Only, which has been disguised to prevent their being discovered during transportation process.Due to several media reports on the late head of state about all the money him and his co-government officials stole from our government treasury amounting\\n',\n",
       " '        to US$55 Billion Dollars (ref:ngrguardiannews.com) of July 2nd 1999. Even the London times of July 1998 reported that General Abacha has over US$3.Billion dollars in one account overseas. We decided to conceal this one (1)box till the situation is calm and quite on the issue. The box was thus deposited with a security company here in Nigeria and tagged as \"Precious Stones and Jewellry\" in other that its\\n',\n",
       " '        content will not be discovered. Now that all is calm, we (myself and two of my colleagues in the operations team) are now ready to move this box out of the country through a diplomatic arrangement which is the safest means. \\n',\n",
       " '\\n',\n",
       " '        However as government officials the Civil Service Code of Conduct does not allow us by law to operate any foreign account or own foreign investment and the amount of money that can be found in our account\\n',\n",
       " '        cannot be more than our salary on the average, thus our handicapp and our need for your assistance to help collect and keep safely in your account this money.\\n',\n",
       " '\\n',\n",
       " '        Therefore we want you to assist us in moving this money out of Nigeria. We shall definitely compensate you handsomely for the assistance. We can do this by instructing the Security Company here in Nigeria to\\n',\n",
       " '        move the consignment to their affiliate branch office outside Nigeria through diplomatic means and the consignment will be termed as Precious Stones and Jewelleries\" which you bought during your visit to Nigeria and is being transfered to your country from here for safe keeping. Then we can arrange to meet at the destination country to take the delivery of the consignment. You will thereafter open an account there and lodge the Money there and gradually instruct remittance to your Country. \\n',\n",
       " '\\n',\n",
       " '        This business is 100% risk free for you so please treat this matter with utmost confidentiality .If you indicate your interest to assist us please just e-mail me for more Explanation on how we plan to execute the transaction.\\n',\n",
       " '\\n',\n",
       " '        Expecting your response urgently.\\n',\n",
       " '\\n',\n",
       " '        Best regards,\\n',\n",
       " '\\n',\n",
       " '        Mr. Ben Suleman\\n',\n",
       " '\\n',\n",
       " '        Wed Oct 30 21:41:56 2002\\n',\n",
       " '        Return-Path: <james_ngola2002@maktoob.com>\\n',\n",
       " '        X-Sieve: cmu-sieve 2.0\\n',\n",
       " '        Return-Path: <james_ngola2002@maktoob.com>\\n',\n",
       " '        Message-Id: <200210310241.g9V2fNm6028281@cs.CU>\\n',\n",
       " '        From: \"MR. JAMES NGOLA.\" <james_ngola2002@maktoob.com>\\n',\n",
       " '        Reply-To: james_ngola2002@maktoob.com\\n',\n",
       " '        To: webmaster@aclweb.org\\n',\n",
       " '        Date: Thu, 31 Oct 2002 02:38:20 +0000\\n',\n",
       " '        Subject: URGENT BUSINESS ASSISTANCE AND PARTNERSHIP\\n',\n",
       " '        X-Mailer: Microsoft Outlook Express 5.00.2919.6900 DM\\n',\n",
       " '        MIME-Version: 1.0\\n',\n",
       " '        Content-Type: text/plain; charset=\"us-ascii\"\\n',\n",
       " '        Content-Transfer-Encoding: 8bit\\n',\n",
       " '        X-MIME-Autoconverted: from quoted-printable to 8bit by sideshowmel.si.UM id g9V2foW24311\\n',\n",
       " '        Status: O\\n',\n",
       " '\\n',\n",
       " '        FROM:MR. JAMES NGOLA.\\n',\n",
       " '        CONFIDENTIAL TEL: 233-27-587908.\\n',\n",
       " '        E-MAIL: (james_ngola2002@maktoob.com).\\n',\n",
       " '\\n',\n",
       " '        URGENT BUSINESS ASSISTANCE AND PARTNERSHIP.\\n',\n",
       " '\\n',\n",
       " '\\n',\n",
       " '        DEAR FRIEND,\\n',\n",
       " '\\n',\n",
       " '        I AM ( DR.) JAMES NGOLA, THE PERSONAL ASSISTANCE TO THE LATE CONGOLESE (PRESIDENT LAURENT KABILA) WHO WAS ASSASSINATED BY HIS BODY GUARD ON 16TH JAN. 2001.\\n',\n",
       " '\\n',\n",
       " '\\n',\n",
       " '        THE INCIDENT OCCURRED IN OUR PRESENCE WHILE WE WERE HOLDING MEETING WITH HIS EXCELLENCY OVER THE FINANCIAL RETURNS FROM THE DIAMOND SALES IN THE AREAS CONTROLLED BY (D.R.C.) DEMOCRATIC REPUBLIC OF CONGO FORCES AND THEIR FOREIGN ALLIES ANGOLA AND ZIMBABWE, HAVING RECEIVED THE PREVIOUS DAY (USD$100M) ONE HUNDRED MILLION UNITED STATES DOLLARS, CASH IN THREE DIPLOMATIC BOXES ROUTED THROUGH ZIMBABWE.\\n',\n",
       " '\\n',\n",
       " '        MY PURPOSE OF WRITING YOU THIS LETTER IS TO SOLICIT FOR YOUR ASSISTANCE AS TO BE A COVER TO THE FUND AND ALSO COLLABORATION IN MOVING THE SAID FUND INTO YOUR BANK ACCOUNT THE SUM OF (USD$25M) TWENTY FIVE MILLION UNITED STATES DOLLARS ONLY, WHICH I DEPOSITED WITH A SECURITY COMPANY IN GHANA, IN A DIPLOMATIC BOX AS GOLDS WORTH (USD$25M) TWENTY FIVE MILLION UNITED STATES DOLLARS ONLY FOR SAFE KEEPING IN A SECURITY VAULT FOR ANY FURTHER INVESTMENT PERHAPS IN YOUR COUNTRY. \\n',\n",
       " '\\n',\n",
       " '        YOU WERE INTRODUCED TO ME BY A RELIABLE FRIEND OF MINE WHO IS A TRAVELLER,AND ALSO A MEMBER OF CHAMBER OF COMMERCE AS A RELIABLE AND TRUSTWORTHY PERSON WHOM I CAN RELY ON AS FOREIGN PARTNER, EVEN THOUGH THE NATURE OF THE TRANSACTION WAS NOT REVEALED TO HIM FOR SECURITY REASONS.\\n',\n",
       " '\\n',\n",
       " '\\n',\n",
       " '        THE (USD$25M) WAS PART OF A PROCEEDS FROM DIAMOND TRADE MEANT FOR THE LATE PRESIDENT LAURENT KABILA WHICH WAS DELIVERED THROUGH ZIMBABWE IN DIPLOMATIC BOXES. THE BOXES WERE KEPT UNDER MY CUSTODY BEFORE THE SAD EVENT THAT TOOK THE LIFE OF (MR. PRESIDENT).THE CONFUSION THAT ENSUED AFTER THE ASSASSINATION AND THE SPORADIC SHOOTING AMONG THE FACTIONS, I HAVE TO RUN AWAY FROM THE COUNTRY FOR MY DEAR LIFE AS I AM NOT A SOLDIER BUT A CIVIL SERVANT I CROSSED RIVER CONGO TO OTHER SIDE OF CONGO LIBREVILLE FROM THERE I MOVED TO THE THIRD COUNTRY GHANA WHERE I AM PRESENTLY TAKING REFUGE. \\n',\n",
       " '\\n',\n",
       " '        AS A MATTER OF FACT, WHAT I URGENTLY NEEDED FROM YOU IS YOUR ASSISTANCE IN MOVING THIS MONEY INTO YOUR ACCOUNT IN YOUR COUNTRY FOR INVESTMENT WITHOUT RAISING EYEBROW. FOR YOUR ASSISTANCE I WILL GIVE YOU 20% OF THE TOTAL SUM AS YOUR OWN SHARE WHEN THE MONEY GETS TO YOUR ACCOUNT, WHILE 75% WILL BE FOR ME, OF WHICH WITH YOUR KIND ADVICE I HOPE TO INVEST IN PROFITABLE VENTURE IN YOUR COUNTRY IN OTHER TO SETTLE DOWN FOR MEANINGFUL LIFE, AS I AM TIRED OF LIVING IN A WAR ENVIRONMENT. \\n',\n",
       " '\\n',\n",
       " '        THE REMAINING 5% WILL BE USED TO OFFSET ANY COST INCURRED IN THE CAUSE OF MOVING THE MONEY TO YOUR ACCOUNT. IF THE PROPOSAL IS ACCEPTABLE TO YOU PLEASE CONTACT ME IMMEDIATELY THROUGH THE ABOVE TELEPHONE AND E-MAIL, TO ENABLE ME ARRANGE FACE TO FACE MEETING WITH YOU IN GHANA FOR THE CLEARANCE OF THE FUNDS BEFORE TRANSFRING IT TO YOUR BANK ACCOUNT AS SEEING IS BELIEVING. \\n',\n",
       " '\\n',\n",
       " '        FINALLY, IT IS IMPORTANT ALSO THAT I LET YOU UNDERSTAND THAT THERE IS NO RISK INVOLVED WHATSOEVER AS THE MONEY HAD NO RECORD IN KINSHASA FOR IT WAS MEANT FOR THE PERSONAL USE OF (MR. PRESIDEND ) BEFORE THE NEFARIOUS INCIDENT OCCURRED, AND ALSO I HAVE ALL THE NECESSARY DOCUMENTS AS REGARDS TO THE FUNDS INCLUDING THE (CERTIFICATE OF DEPOSIT), AS I AM THE DEPOSITOR OF THE CONSIGNMENT.\\n',\n",
       " '\\n',\n",
       " '\\n',\n",
       " '        LOOKING FORWARD TO YOUR URGENT RESPONSE.\\n',\n",
       " '\\n',\n",
       " '        YOUR SINCERELY,\\n',\n",
       " '\\n',\n",
       " '        MR. JAMES NGOLA. ']"
      ]
     },
     "execution_count": 51,
     "metadata": {},
     "output_type": "execute_result"
    }
   ],
   "source": [
    "lectura_y_escritura_de_ficheros('saludo.txt',contenido)"
   ]
  },
  {
   "cell_type": "code",
   "execution_count": null,
   "metadata": {},
   "outputs": [],
   "source": [
    "# ARCHIVOS XML\n",
    "# En este ejercicio tendréis que crear una función que reciba el nombre del archivo xml y \n",
    "# que devuelva lo siguiente:\n",
    "# Qué tag y atributos tiene el archivo xml.\n",
    "# La descripción de cada una de las películas que tenemos en ese archivo.\n",
    "# Los años en que fueron estrenadas las películas.\n",
    "\n",
    "# 💡 Pistas 💡\n",
    "# La función debe recibir un parámetro, el nombre del archivo xml.\n",
    "# Tendréis que utlizar un bucle for para recorrer todo el archivo xml y extraer la \n",
    "# información que os pedimos.\n",
    "# Recordad el método .text para extraer el texto de un elemento."
   ]
  },
  {
   "cell_type": "code",
   "execution_count": 61,
   "metadata": {},
   "outputs": [],
   "source": [
    "def archivo_xml ():\n",
    "    directorio_actual = os.getcwd()\n",
    "    carpeta_actual = directorio_actual.split('/')[-1]\n",
    "    archivo_d = 'peliculas.xml'\n",
    "    arbol = ET.parse(f'../{carpeta_actual}/{archivo_d}')\n",
    "    raiz = arbol.getroot()"
   ]
  },
  {
   "cell_type": "code",
   "execution_count": 57,
   "metadata": {},
   "outputs": [
    {
     "data": {
      "text/plain": [
       "'/Users/paulacolladosaura/Desktop/adalab/Modulo 1/Pair Programming/caja negra'"
      ]
     },
     "execution_count": 57,
     "metadata": {},
     "output_type": "execute_result"
    }
   ],
   "source": [
    "os.getcwd()"
   ]
  },
  {
   "cell_type": "code",
   "execution_count": 56,
   "metadata": {},
   "outputs": [],
   "source": [
    "os.chdir('../')"
   ]
  },
  {
   "cell_type": "code",
   "execution_count": null,
   "metadata": {},
   "outputs": [],
   "source": []
  }
 ],
 "metadata": {
  "kernelspec": {
   "display_name": "Python 3.9.7 ('base')",
   "language": "python",
   "name": "python3"
  },
  "language_info": {
   "codemirror_mode": {
    "name": "ipython",
    "version": 3
   },
   "file_extension": ".py",
   "mimetype": "text/x-python",
   "name": "python",
   "nbconvert_exporter": "python",
   "pygments_lexer": "ipython3",
   "version": "3.9.7"
  },
  "orig_nbformat": 4,
  "vscode": {
   "interpreter": {
    "hash": "40d3a090f54c6569ab1632332b64b2c03c39dcf918b08424e98f38b5ae0af88f"
   }
  }
 },
 "nbformat": 4,
 "nbformat_minor": 2
}
