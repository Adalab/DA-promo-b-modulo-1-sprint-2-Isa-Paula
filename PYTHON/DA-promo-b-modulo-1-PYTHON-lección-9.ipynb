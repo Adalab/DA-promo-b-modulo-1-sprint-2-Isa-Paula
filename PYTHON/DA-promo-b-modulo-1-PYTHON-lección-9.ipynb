{
 "cells": [
  {
   "cell_type": "code",
   "execution_count": null,
   "metadata": {},
   "outputs": [],
   "source": [
    "# Ejercicio 1\n",
    "# Vamos a crear una \"Calculadora de puntos\". Tenéis que escribir una calculadora que reciba cadenas de \n",
    "# caracteres como entrada. Los puntos representarán el número de la ecuación. Habrá puntos en un lado, un \n",
    "# operador, y puntos de nuevo después del oparador. Los puntos y el operador estarán separados por un \n",
    "# espacio.\n",
    "# Aquí os dejamos los operadores válidos:\n",
    "# Suma\n",
    "# Resta\n",
    "# Multiplicación\n",
    "# División entera\n",
    "#Vuestro trabajo\n",
    "#Tendréis que devolver un string que contenga puntos, tantos como devuelva la ecuación. \n",
    "# Si el resultado es 0, devuelve la cadena vacía. Cuando se trata de una resta, el primer número \n",
    "# siempre será mayor o igual que el segundo.\n",
    "#Probad la función con los siguientes casos: \n",
    "\n",
    "\"..... + ...............\" => \"....................\"\n",
    "\"..... - ...\" => \"..\"\n",
    "\"..... * ...\" => \"...............\"\n",
    "\"..... // ..\" => \"..\"\n",
    "\". // ..\" => \"\"\n",
    "\".. - ..\" => \"\""
   ]
  },
  {
   "cell_type": "code",
   "execution_count": 2,
   "metadata": {},
   "outputs": [],
   "source": [
    "def calculadora (puntos):\n",
    "    resultado = 0\n",
    "    lista_puntos = puntos.split()\n",
    "    op = lista_puntos[1]\n",
    "    n1 = lista_puntos[0].count('.')\n",
    "    n2 = lista_puntos[2].count('.')\n",
    "    if op == '+': # Si es suma, sumamos los números de puntos y lo multiplicamos por el símbolo '.' para que nos cree el número de puntos total\n",
    "        resultado = n1 + n2\n",
    "        return resultado * '.'\n",
    "    elif op == '-': # Si es resta, restamos el numero menor al mayor y multiplicamos por '.'\n",
    "        if n1 > n2:\n",
    "            resultado = n1 - n2\n",
    "        else:\n",
    "            resultado = n2 - n1\n",
    "        return resultado * '.'\n",
    "    elif op == '*': # Si es multiplicación, multiplicamos los numeros y el resultado de este por '.'\n",
    "        resultado = n1 * n2\n",
    "        return resultado * '.'\n",
    "    elif op == '//': # Lo mismo que en las anteriores pero dividiendo y redondeando hacia abajo\n",
    "        resultado = n1 // n2\n",
    "        return resultado * '.'"
   ]
  },
  {
   "cell_type": "code",
   "execution_count": 3,
   "metadata": {},
   "outputs": [
    {
     "data": {
      "text/plain": [
       "'....................'"
      ]
     },
     "execution_count": 3,
     "metadata": {},
     "output_type": "execute_result"
    }
   ],
   "source": [
    "calculadora (\"..... + ...............\")"
   ]
  },
  {
   "cell_type": "code",
   "execution_count": 4,
   "metadata": {},
   "outputs": [
    {
     "data": {
      "text/plain": [
       "'..'"
      ]
     },
     "execution_count": 4,
     "metadata": {},
     "output_type": "execute_result"
    }
   ],
   "source": [
    "calculadora (\"..... - ...\")"
   ]
  },
  {
   "cell_type": "code",
   "execution_count": 6,
   "metadata": {},
   "outputs": [
    {
     "data": {
      "text/plain": [
       "'...............'"
      ]
     },
     "execution_count": 6,
     "metadata": {},
     "output_type": "execute_result"
    }
   ],
   "source": [
    "calculadora(\"..... * ...\")"
   ]
  },
  {
   "cell_type": "code",
   "execution_count": 7,
   "metadata": {},
   "outputs": [
    {
     "data": {
      "text/plain": [
       "'..'"
      ]
     },
     "execution_count": 7,
     "metadata": {},
     "output_type": "execute_result"
    }
   ],
   "source": [
    "calculadora(\"..... // ..\")"
   ]
  },
  {
   "cell_type": "code",
   "execution_count": 8,
   "metadata": {},
   "outputs": [
    {
     "data": {
      "text/plain": [
       "''"
      ]
     },
     "execution_count": 8,
     "metadata": {},
     "output_type": "execute_result"
    }
   ],
   "source": [
    "calculadora (\". // ..\")"
   ]
  },
  {
   "cell_type": "code",
   "execution_count": 9,
   "metadata": {},
   "outputs": [
    {
     "data": {
      "text/plain": [
       "''"
      ]
     },
     "execution_count": 9,
     "metadata": {},
     "output_type": "execute_result"
    }
   ],
   "source": [
    "calculadora(\".. - ..\")"
   ]
  },
  {
   "cell_type": "code",
   "execution_count": null,
   "metadata": {},
   "outputs": [],
   "source": [
    "# Ejercicio 2\n",
    "#Te despides de tu mejor amigo, \"Nos vemos el próximo año\".\n",
    "#Vuestro trabajo: Dado un año, encuentra el próximo cumpleaños o el año más cercano en el que verás a \n",
    "# tu mejor amigo.\n",
    "#Condiciones\n",
    "#Año siempre positivo.\n",
    "#El siguiente año que le felicites a tu mejor amigo no puede tener ningún dígito repetido.\n",
    "#Probad la función con los siguientes casos:\n",
    "\n",
    "7712 ==> El siguiente año que felicitarás a tu amigo será el 7801. \n",
    "Por que es el siguiente año en el que no hay ninguún dígito repetido. \n",
    "\n",
    "\n",
    "1001 => 1023 \n",
    "\n",
    "1123 => 1203\n",
    "\n",
    "2001 => 2013"
   ]
  },
  {
   "cell_type": "code",
   "execution_count": 19,
   "metadata": {},
   "outputs": [
    {
     "data": {
      "text/plain": [
       "1023"
      ]
     },
     "execution_count": 19,
     "metadata": {},
     "output_type": "execute_result"
    }
   ],
   "source": [
    "\n",
    "# The following code is creating a function that takes a year as an input and returns the next year \n",
    "# that has all different digits.\n",
    "\n",
    "def year (año):\n",
    "    año_ = año + 1\n",
    "        # lo pongo en str porque si lo dejo en int me lo lee como un numero de 4 digitos y no puede iterar con el while\n",
    "    while len(set(str(año_))) < len(str(año)): # El set me elimina repetidos, por lo que puede ser que la longitud de año_ sea menor a la de año, cuando hay digitos repetidos***\n",
    "        # La condicion es que tengan los mismos elementos (ya que tiene que ser el año más proximo)\n",
    "            año_ +=1 # Si no tienen los mismos numeros de elementos, le sumas 1\n",
    "    return año_"
   ]
  },
  {
   "cell_type": "code",
   "execution_count": 22,
   "metadata": {},
   "outputs": [
    {
     "data": {
      "text/plain": [
       "1023"
      ]
     },
     "execution_count": 22,
     "metadata": {},
     "output_type": "execute_result"
    }
   ],
   "source": [
    "year(1001)"
   ]
  },
  {
   "cell_type": "code",
   "execution_count": 20,
   "metadata": {},
   "outputs": [
    {
     "data": {
      "text/plain": [
       "1203"
      ]
     },
     "execution_count": 20,
     "metadata": {},
     "output_type": "execute_result"
    }
   ],
   "source": [
    "year(1123)"
   ]
  },
  {
   "cell_type": "code",
   "execution_count": 21,
   "metadata": {},
   "outputs": [
    {
     "data": {
      "text/plain": [
       "2013"
      ]
     },
     "execution_count": 21,
     "metadata": {},
     "output_type": "execute_result"
    }
   ],
   "source": [
    "year(2001)"
   ]
  },
  {
   "cell_type": "code",
   "execution_count": null,
   "metadata": {},
   "outputs": [],
   "source": [
    "\n",
    "#3. Tenéis que crear un función que chequee la vida de un evaporador que contiene un gas.\n",
    "#Conocemos el contenido del evaporador (contenido en ml), el porcentaje de gas que se pierde \n",
    "# cada día y el umbral en porcentaje a partir del cual el evaporador deja de ser útil. Todos los\n",
    "# números serán estrictamente positivos.\n",
    "#⚠️ Nota: el contenido no es, de hecho, necesario en el cuerpo de la función, podéis utilizarlo o no.\n",
    "\n",
    "# Probad la función con los siguientes casos:\n",
    "\n",
    "10, 10, 5 => 29\n",
    "\n",
    "10, 10, 10 = > 22"
   ]
  },
  {
   "cell_type": "code",
   "execution_count": 54,
   "metadata": {},
   "outputs": [],
   "source": [
    "def dias (contenido, perdida, umbral):\n",
    "    dia = 0\n",
    "    # 1º: tenemos que conocer el umbral a partir del cual no funcionará (en ml)\n",
    "    umbral_ml = umbral * contenido / 100\n",
    "    while contenido >= umbral_ml: # siempre que el vaporador funcione (tenga mas capacidad que la del umbral)\n",
    "        perdida_dia = perdida * contenido /100 # calcula la perdida diaria de ese dia\n",
    "        contenido = contenido - perdida_dia # y le restas el contenido que ha perdido\n",
    "        dia +=1 # sumamos 1 dia más\n",
    "    return dia\n"
   ]
  },
  {
   "cell_type": "code",
   "execution_count": 55,
   "metadata": {},
   "outputs": [
    {
     "data": {
      "text/plain": [
       "29"
      ]
     },
     "execution_count": 55,
     "metadata": {},
     "output_type": "execute_result"
    }
   ],
   "source": [
    "dias(10,10,5)"
   ]
  },
  {
   "cell_type": "code",
   "execution_count": 56,
   "metadata": {},
   "outputs": [
    {
     "data": {
      "text/plain": [
       "22"
      ]
     },
     "execution_count": 56,
     "metadata": {},
     "output_type": "execute_result"
    }
   ],
   "source": [
    "dias(10,10,10)"
   ]
  },
  {
   "cell_type": "code",
   "execution_count": 1,
   "metadata": {},
   "outputs": [],
   "source": [
    "# 4 Definid una función que tome como argumento un entero y devuelva True o False dependiendo de si el número es \n",
    "# primo o no.\n",
    "# Según la Wikipedia, un número primo es un número natural mayor que 1 que no tiene divisores positivos más que \n",
    "# 1 y él mismo.\n",
    "\n",
    "\n",
    "def primos (numero):\n",
    "    if numero <= 1: # el número 0 y 1 no es primo\n",
    "        return('False')\n",
    "    else:\n",
    "        for i in range(1,numero): \n",
    "            if numero%i != 0: # los numeros primos si se dividen por cualquier numero que no sea 1 o ellos mismos, no da resultado entero\n",
    "                return('True')\n",
    "            else:\n",
    "                return ('False')\n"
   ]
  },
  {
   "cell_type": "code",
   "execution_count": 39,
   "metadata": {},
   "outputs": [
    {
     "data": {
      "text/plain": [
       "'False'"
      ]
     },
     "execution_count": 39,
     "metadata": {},
     "output_type": "execute_result"
    }
   ],
   "source": [
    "\n",
    "# Probad la función con los siguientes números: \n",
    "\n",
    "primos(0)"
   ]
  },
  {
   "cell_type": "code",
   "execution_count": 38,
   "metadata": {},
   "outputs": [
    {
     "data": {
      "text/plain": [
       "'True'"
      ]
     },
     "execution_count": 38,
     "metadata": {},
     "output_type": "execute_result"
    }
   ],
   "source": [
    "primos(2)"
   ]
  },
  {
   "cell_type": "code",
   "execution_count": 37,
   "metadata": {},
   "outputs": [
    {
     "data": {
      "text/plain": [
       "'True'"
      ]
     },
     "execution_count": 37,
     "metadata": {},
     "output_type": "execute_result"
    }
   ],
   "source": [
    "primos(73)"
   ]
  },
  {
   "cell_type": "code",
   "execution_count": 40,
   "metadata": {},
   "outputs": [
    {
     "data": {
      "text/plain": [
       "'False'"
      ]
     },
     "execution_count": 40,
     "metadata": {},
     "output_type": "execute_result"
    }
   ],
   "source": [
    "primos(-1)"
   ]
  },
  {
   "cell_type": "code",
   "execution_count": 41,
   "metadata": {},
   "outputs": [
    {
     "data": {
      "text/plain": [
       "'True'"
      ]
     },
     "execution_count": 41,
     "metadata": {},
     "output_type": "execute_result"
    }
   ],
   "source": [
    "primos(5099)"
   ]
  },
  {
   "cell_type": "code",
   "execution_count": 56,
   "metadata": {},
   "outputs": [],
   "source": [
    "# 5.Probablemente conozcais el sistema de \"me gusta\" de Facebook y otras páginas. La gente puede \n",
    "# dar \"me gusta\" a las publicaciones del blog, a las imágenes o a otros elementos. Queremos crear \n",
    "# el texto que debe mostrarse junto a dicho elemento.\n",
    "# Cread una función que toma una lista que contiene los nombres de las personas a las que les gusta\n",
    "#  un artículo. Debe devolver el texto que se muestra en los ejemplos:\n",
    "\n",
    "# A function that takes a list as an argument and returns a string depending on its length.\n",
    "def megusta (lista):\n",
    "    if len(lista) == 0:\n",
    "        return \"A nadie le gusta esto\"\n",
    "    elif len(lista) == 1:\n",
    "        return f\"A {lista[0]} le gusta esto\"\n",
    "    elif len(lista) == 2:\n",
    "        return f\"A {lista[0]} y {lista[1]} les gusta esto\"\n",
    "    elif len(lista) == 3:\n",
    "        return f\"A {lista[0]}, {lista[1]} y {lista[2]} les gusta esto\"\n",
    "    else:\n",
    "        return f\"A {lista[0]}, {lista[1]} y {len(lista)-2} más les gusta esto\"\n",
    "        "
   ]
  },
  {
   "cell_type": "code",
   "execution_count": 50,
   "metadata": {},
   "outputs": [
    {
     "data": {
      "text/plain": [
       "'A nadie le gusta esto'"
      ]
     },
     "execution_count": 50,
     "metadata": {},
     "output_type": "execute_result"
    }
   ],
   "source": [
    "megusta([ ])"
   ]
  },
  {
   "cell_type": "code",
   "execution_count": 51,
   "metadata": {},
   "outputs": [
    {
     "data": {
      "text/plain": [
       "'A Paola le gusta esto'"
      ]
     },
     "execution_count": 51,
     "metadata": {},
     "output_type": "execute_result"
    }
   ],
   "source": [
    "megusta(['Paola'])"
   ]
  },
  {
   "cell_type": "code",
   "execution_count": 52,
   "metadata": {},
   "outputs": [
    {
     "data": {
      "text/plain": [
       "'A Jacoba y Alex les gusta esto'"
      ]
     },
     "execution_count": 52,
     "metadata": {},
     "output_type": "execute_result"
    }
   ],
   "source": [
    "megusta(['Jacoba', 'Alex'] )"
   ]
  },
  {
   "cell_type": "code",
   "execution_count": 57,
   "metadata": {},
   "outputs": [
    {
     "data": {
      "text/plain": [
       "'A Maria, Juana y Lola les gusta esto'"
      ]
     },
     "execution_count": 57,
     "metadata": {},
     "output_type": "execute_result"
    }
   ],
   "source": [
    "megusta([\"Maria\", \"Juana\", \"Lola\"])\n"
   ]
  },
  {
   "cell_type": "code",
   "execution_count": 58,
   "metadata": {},
   "outputs": [
    {
     "data": {
      "text/plain": [
       "'A Alex, Jacoba y 2 más les gusta esto'"
      ]
     },
     "execution_count": 58,
     "metadata": {},
     "output_type": "execute_result"
    }
   ],
   "source": [
    "megusta([\"Alex\", \"Jacoba\", \"Lola\", \"Carmen\"])"
   ]
  },
  {
   "cell_type": "code",
   "execution_count": 59,
   "metadata": {},
   "outputs": [
    {
     "data": {
      "text/plain": [
       "'A Alex, Jacoba y 3 más les gusta esto'"
      ]
     },
     "execution_count": 59,
     "metadata": {},
     "output_type": "execute_result"
    }
   ],
   "source": [
    "megusta([\"Alex\", \"Jacoba\", \"Lola\", \"Carmen\", \"Mariana\"])"
   ]
  }
 ],
 "metadata": {
  "kernelspec": {
   "display_name": "Python 3.9.7 ('base')",
   "language": "python",
   "name": "python3"
  },
  "language_info": {
   "codemirror_mode": {
    "name": "ipython",
    "version": 3
   },
   "file_extension": ".py",
   "mimetype": "text/x-python",
   "name": "python",
   "nbconvert_exporter": "python",
   "pygments_lexer": "ipython3",
   "version": "3.9.7"
  },
  "orig_nbformat": 4,
  "vscode": {
   "interpreter": {
    "hash": "40d3a090f54c6569ab1632332b64b2c03c39dcf918b08424e98f38b5ae0af88f"
   }
  }
 },
 "nbformat": 4,
 "nbformat_minor": 2
}
