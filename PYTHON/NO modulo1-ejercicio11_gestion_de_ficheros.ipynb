{
 "cells": [
  {
   "cell_type": "code",
   "execution_count": null,
   "metadata": {},
   "outputs": [],
   "source": [
    "# PRIMERA FUNCION\n",
    "#1.Nos muestre en que carpeta estamos trabajando.\n",
    "#2.Cree una carpeta que se llame \"aprendiendo-ficheros\". ⚠️ Tened en cuenta que si la carpeta ya existe no la podemos crear, nos devolverá un \n",
    "# error. Incluye en la función un programa que evite que nos de un error si la carpeta ya existe.\n",
    "#3.Cree otra carpeta que se llame \"datos\" dentro de la carpeta \"aprendiendo-ficheros\". En esta carpeta \"datos\" guardaremos el fichero \"saludo.txt\"\n",
    "#  que os habéis descargado.\n",
    "#4.Cambiad el directorio de trabajo a la carpeta \"datos\". Antes de seguir chequead que estáis trabajando en la carpeta \"datos\".\n",
    "#5.Cambiad el nombre de la carpeta creada en el punto 2 a \"primera-toma-contacto\""
   ]
  },
  {
   "cell_type": "code",
   "execution_count": 1,
   "metadata": {},
   "outputs": [],
   "source": [
    "import os"
   ]
  },
  {
   "cell_type": "code",
   "execution_count": 31,
   "metadata": {},
   "outputs": [],
   "source": [
    "def primera_funcion(primera_carpeta,segunda_carpeta,nuev_nombre_carpeta_1):\n",
    "    print(os.getcwd())  #No le podemos poner return, porque nos pararía el código. Para poder ver por pantalla, nuestra ubicación, le ponemos un print\n",
    "    if primera_carpeta in os.listdir():\n",
    "        print('Este fichero ya existe')\n",
    "    else:\n",
    "        os.mkdir(primera_carpeta)\n",
    "        print('Se ha creado el directorio ',primera_carpeta)\n",
    "\n",
    "    os.chdir('./'+ primera_carpeta)\n",
    "    \n"
   ]
  },
  {
   "cell_type": "code",
   "execution_count": 32,
   "metadata": {},
   "outputs": [
    {
     "name": "stdout",
     "output_type": "stream",
     "text": [
      "/Users/paulacolladosaura/Desktop/adalab/Modulo 1/Pair Programming/DA-promo-b-modulo-1-sprint-2-Isa-Paula/PYTHON\n",
      "Este fichero ya existe\n"
     ]
    }
   ],
   "source": [
    "primera_funcion(\"aprendiendo-ficheros\",'x','y')"
   ]
  },
  {
   "cell_type": "code",
   "execution_count": 23,
   "metadata": {},
   "outputs": [
    {
     "data": {
      "text/plain": [
       "[]"
      ]
     },
     "execution_count": 23,
     "metadata": {},
     "output_type": "execute_result"
    }
   ],
   "source": [
    "os.listdir()"
   ]
  },
  {
   "cell_type": "code",
   "execution_count": 25,
   "metadata": {},
   "outputs": [],
   "source": [
    "os.chdir('/Users/paulacolladosaura/Desktop/adalab/Modulo 1/Pair Programming/DA-promo-b-modulo-1-sprint-2-Isa-Paula/PYTHON')"
   ]
  },
  {
   "cell_type": "code",
   "execution_count": 26,
   "metadata": {},
   "outputs": [
    {
     "data": {
      "text/plain": [
       "['aprendiendo-ficheros',\n",
       " 'ejercicio pair 9.ipynb',\n",
       " 'modulo1-ejercicio11_gestion_de_ficheros.ipynb',\n",
       " 'modulo1- ejercicici10_clases.ipynb',\n",
       " 'Ejercicio_pair_8.ipynb']"
      ]
     },
     "execution_count": 26,
     "metadata": {},
     "output_type": "execute_result"
    }
   ],
   "source": [
    "os.listdir()"
   ]
  },
  {
   "cell_type": "code",
   "execution_count": null,
   "metadata": {},
   "outputs": [],
   "source": []
  }
 ],
 "metadata": {
  "kernelspec": {
   "display_name": "Python 3.9.7 ('base')",
   "language": "python",
   "name": "python3"
  },
  "language_info": {
   "codemirror_mode": {
    "name": "ipython",
    "version": 3
   },
   "file_extension": ".py",
   "mimetype": "text/x-python",
   "name": "python",
   "nbconvert_exporter": "python",
   "pygments_lexer": "ipython3",
   "version": "3.9.7"
  },
  "orig_nbformat": 4,
  "vscode": {
   "interpreter": {
    "hash": "40d3a090f54c6569ab1632332b64b2c03c39dcf918b08424e98f38b5ae0af88f"
   }
  }
 },
 "nbformat": 4,
 "nbformat_minor": 2
}
