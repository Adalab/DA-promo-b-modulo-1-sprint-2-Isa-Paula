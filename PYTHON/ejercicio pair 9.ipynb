{
 "cells": [
  {
   "cell_type": "code",
   "execution_count": null,
   "metadata": {},
   "outputs": [],
   "source": [
    "# Ejercicio 1\n",
    "# Vamos a crear una \"Calculadora de puntos\". Tenéis que escribir una calculadora que reciba cadenas de \n",
    "# caracteres como entrada. Los puntos representarán el número de la ecuación. Habrá puntos en un lado, un \n",
    "# operador, y puntos de nuevo después del oparador. Los puntos y el operador estarán separados por un \n",
    "# espacio.\n",
    "# Aquí os dejamos los operadores válidos:\n",
    "# Suma\n",
    "# Resta\n",
    "# Multiplicación\n",
    "# División entera\n",
    "#Vuestro trabajo\n",
    "#Tendréis que devolver un string que contenga puntos, tantos como devuelva la ecuación. \n",
    "# Si el resultado es 0, devuelve la cadena vacía. Cuando se trata de una resta, el primer número \n",
    "# siempre será mayor o igual que el segundo."
   ]
  },
  {
   "cell_type": "code",
   "execution_count": 59,
   "metadata": {},
   "outputs": [],
   "source": [
    "def calculadora (puntos):\n",
    "    resultado = 0\n",
    "    lista_puntos = puntos.split()\n",
    "    op = lista_puntos[1]\n",
    "    n1 = lista_puntos[0].count('.')\n",
    "    n2 = lista_puntos[2].count('.')\n",
    "    if op == '+':\n",
    "        resultado = n1 + n2\n",
    "        return resultado * '.'\n",
    "    elif op == '-':\n",
    "        if n1 > n2:\n",
    "            resultado = n1 - n2\n",
    "        else:\n",
    "            resultado = n2 - n1\n",
    "        return resultado * '.'\n",
    "    elif op == '*':\n",
    "        resultado = n1 * n2\n",
    "        return resultado * '.'\n",
    "    elif op == '//':\n",
    "        resultado = n1 // n2\n",
    "        return resultado * '.'"
   ]
  },
  {
   "cell_type": "code",
   "execution_count": 60,
   "metadata": {},
   "outputs": [
    {
     "data": {
      "text/plain": [
       "'....................'"
      ]
     },
     "execution_count": 60,
     "metadata": {},
     "output_type": "execute_result"
    }
   ],
   "source": [
    "calculadora (\"..... + ...............\")"
   ]
  },
  {
   "cell_type": "code",
   "execution_count": null,
   "metadata": {},
   "outputs": [],
   "source": []
  }
 ],
 "metadata": {
  "kernelspec": {
   "display_name": "Python 3.9.7 ('base')",
   "language": "python",
   "name": "python3"
  },
  "language_info": {
   "codemirror_mode": {
    "name": "ipython",
    "version": 3
   },
   "file_extension": ".py",
   "mimetype": "text/x-python",
   "name": "python",
   "nbconvert_exporter": "python",
   "pygments_lexer": "ipython3",
   "version": "3.9.7"
  },
  "orig_nbformat": 4,
  "vscode": {
   "interpreter": {
    "hash": "40d3a090f54c6569ab1632332b64b2c03c39dcf918b08424e98f38b5ae0af88f"
   }
  }
 },
 "nbformat": 4,
 "nbformat_minor": 2
}
