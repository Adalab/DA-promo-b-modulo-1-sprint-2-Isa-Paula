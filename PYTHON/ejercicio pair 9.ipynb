{
 "cells": [
  {
   "cell_type": "code",
   "execution_count": null,
   "metadata": {},
   "outputs": [],
   "source": [
    "# Ejercicio 1\n",
    "# Vamos a crear una \"Calculadora de puntos\". Tenéis que escribir una calculadora que reciba cadenas de \n",
    "# caracteres como entrada. Los puntos representarán el número de la ecuación. Habrá puntos en un lado, un \n",
    "# operador, y puntos de nuevo después del oparador. Los puntos y el operador estarán separados por un \n",
    "# espacio.\n",
    "# Aquí os dejamos los operadores válidos:\n",
    "# Suma\n",
    "# Resta\n",
    "# Multiplicación\n",
    "# División entera\n",
    "#Vuestro trabajo\n",
    "#Tendréis que devolver un string que contenga puntos, tantos como devuelva la ecuación. \n",
    "# Si el resultado es 0, devuelve la cadena vacía. Cuando se trata de una resta, el primer número \n",
    "# siempre será mayor o igual que el segundo.\n",
    "#Probad la función con los siguientes casos: \n",
    "\n",
    "\"..... + ...............\" => \"....................\"\n",
    "\"..... - ...\" => \"..\"\n",
    "\"..... * ...\" => \"...............\"\n",
    "\"..... // ..\" => \"..\"\n",
    "\". // ..\" => \"\"\n",
    "\".. - ..\" => \"\""
   ]
  },
  {
   "cell_type": "code",
   "execution_count": 2,
   "metadata": {},
   "outputs": [],
   "source": [
    "def calculadora (puntos):\n",
    "    resultado = 0\n",
    "    lista_puntos = puntos.split()\n",
    "    op = lista_puntos[1]\n",
    "    n1 = lista_puntos[0].count('.')\n",
    "    n2 = lista_puntos[2].count('.')\n",
    "    if op == '+':\n",
    "        resultado = n1 + n2\n",
    "        return resultado * '.'\n",
    "    elif op == '-':\n",
    "        if n1 > n2:\n",
    "            resultado = n1 - n2\n",
    "        else:\n",
    "            resultado = n2 - n1\n",
    "        return resultado * '.'\n",
    "    elif op == '*':\n",
    "        resultado = n1 * n2\n",
    "        return resultado * '.'\n",
    "    elif op == '//':\n",
    "        resultado = n1 // n2\n",
    "        return resultado * '.'"
   ]
  },
  {
   "cell_type": "code",
   "execution_count": 3,
   "metadata": {},
   "outputs": [
    {
     "data": {
      "text/plain": [
       "'....................'"
      ]
     },
     "execution_count": 3,
     "metadata": {},
     "output_type": "execute_result"
    }
   ],
   "source": [
    "calculadora (\"..... + ...............\")"
   ]
  },
  {
   "cell_type": "code",
   "execution_count": 4,
   "metadata": {},
   "outputs": [
    {
     "data": {
      "text/plain": [
       "'..'"
      ]
     },
     "execution_count": 4,
     "metadata": {},
     "output_type": "execute_result"
    }
   ],
   "source": [
    "calculadora (\"..... - ...\")"
   ]
  },
  {
   "cell_type": "code",
   "execution_count": 6,
   "metadata": {},
   "outputs": [
    {
     "data": {
      "text/plain": [
       "'...............'"
      ]
     },
     "execution_count": 6,
     "metadata": {},
     "output_type": "execute_result"
    }
   ],
   "source": [
    "calculadora(\"..... * ...\")"
   ]
  },
  {
   "cell_type": "code",
   "execution_count": 7,
   "metadata": {},
   "outputs": [
    {
     "data": {
      "text/plain": [
       "'..'"
      ]
     },
     "execution_count": 7,
     "metadata": {},
     "output_type": "execute_result"
    }
   ],
   "source": [
    "calculadora(\"..... // ..\")"
   ]
  },
  {
   "cell_type": "code",
   "execution_count": 8,
   "metadata": {},
   "outputs": [
    {
     "data": {
      "text/plain": [
       "''"
      ]
     },
     "execution_count": 8,
     "metadata": {},
     "output_type": "execute_result"
    }
   ],
   "source": [
    "calculadora (\". // ..\")"
   ]
  },
  {
   "cell_type": "code",
   "execution_count": 9,
   "metadata": {},
   "outputs": [
    {
     "data": {
      "text/plain": [
       "''"
      ]
     },
     "execution_count": 9,
     "metadata": {},
     "output_type": "execute_result"
    }
   ],
   "source": [
    "calculadora(\".. - ..\")"
   ]
  },
  {
   "cell_type": "code",
   "execution_count": null,
   "metadata": {},
   "outputs": [],
   "source": [
    "# Ejercicio 2\n",
    "#Te despides de tu mejor amigo, \"Nos vemos el próximo año\".\n",
    "#Vuestro trabajo: Dado un año, encuentra el próximo cumpleaños o el año más cercano en el que verás a \n",
    "# tu mejor amigo.\n",
    "#Condiciones\n",
    "#Año siempre positivo.\n",
    "#El siguiente año que le felicites a tu mejor amigo no puede tener ningún dígito repetido.\n",
    "#Probad la función con los siguientes casos:\n",
    "\n",
    "7712 ==> El siguiente año que felicitarás a tu amigo será el 7801. \n",
    "Por que es el siguiente año en el que no hay ninguún dígito repetido. \n",
    "\n",
    "\n",
    "1001 => 1023 \n",
    "\n",
    "1123 => 1203\n",
    "\n",
    "2001 => 2013"
   ]
  },
  {
   "cell_type": "code",
   "execution_count": 24,
   "metadata": {},
   "outputs": [
    {
     "ename": "SyntaxError",
     "evalue": "cannot assign to function call (2665804718.py, line 4)",
     "output_type": "error",
     "traceback": [
      "\u001b[0;36m  File \u001b[0;32m\"/var/folders/fk/9dj5qplx5dv2l_dlsz8sf1pw0000gn/T/ipykernel_38677/2665804718.py\"\u001b[0;36m, line \u001b[0;32m4\u001b[0m\n\u001b[0;31m    len(r) = 4\u001b[0m\n\u001b[0m    ^\u001b[0m\n\u001b[0;31mSyntaxError\u001b[0m\u001b[0;31m:\u001b[0m cannot assign to function call\n"
     ]
    }
   ],
   "source": [
    "# 4 Definid una función que tome como argumento un entero y devuelva True o False dependiendo de si el número es \n",
    "# primo o no.\n",
    "# Según la Wikipedia, un número primo es un número natural mayor que 1 que no tiene divisores positivos más que \n",
    "# 1 y él mismo.\n",
    "\n",
    "def primos (numero,divisorio = range(1,11)):\n",
    "    for i in divisorio:\n",
    "        if numero/i\n",
    "\n",
    "\n",
    "# Probad la función con los siguientes números: \n",
    "\n",
    "0 => False\n",
    "2 => True\n",
    "73 => True\n",
    "-1 => False\n",
    "5099 => True\n",
    "\n",
    "  \n",
    "\n",
    "\n",
    "\n"
   ]
  },
  {
   "cell_type": "code",
   "execution_count": 23,
   "metadata": {},
   "outputs": [
    {
     "data": {
      "text/plain": [
       "set"
      ]
     },
     "execution_count": 23,
     "metadata": {},
     "output_type": "execute_result"
    }
   ],
   "source": []
  }
 ],
 "metadata": {
  "kernelspec": {
   "display_name": "Python 3.9.7 ('base')",
   "language": "python",
   "name": "python3"
  },
  "language_info": {
   "codemirror_mode": {
    "name": "ipython",
    "version": 3
   },
   "file_extension": ".py",
   "mimetype": "text/x-python",
   "name": "python",
   "nbconvert_exporter": "python",
   "pygments_lexer": "ipython3",
   "version": "3.9.7"
  },
  "orig_nbformat": 4,
  "vscode": {
   "interpreter": {
    "hash": "40d3a090f54c6569ab1632332b64b2c03c39dcf918b08424e98f38b5ae0af88f"
   }
  }
 },
 "nbformat": 4,
 "nbformat_minor": 2
}
