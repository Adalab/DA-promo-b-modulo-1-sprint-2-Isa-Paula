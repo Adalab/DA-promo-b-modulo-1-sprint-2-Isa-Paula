{
 "cells": [
  {
   "cell_type": "code",
   "execution_count": null,
   "metadata": {},
   "outputs": [],
   "source": [
    "#Definid una clase que se llame Empleados\n",
    "#Definid los siguientes atributos que caracterizan a nuestros empleados:\n",
    "#nombre\n",
    "#apellido\n",
    "# edad\n",
    "# posición que ocupa en la empresa\n",
    "# año en que entró en la empresa\n",
    "# número de días de vacaciones que tiene\n",
    "# Las herramientas que usa cada uno de ellos, por ejemplo, Outlook, excel y word. Deberá ser una lista.\n",
    "# Cread una instancia para la clase creada\n",
    "# Definid los siguientes métodos:\n",
    "# descripción\n",
    "# calculo_vacaciones\n",
    "# cambiando_posicion"
   ]
  },
  {
   "cell_type": "code",
   "execution_count": 6,
   "metadata": {},
   "outputs": [],
   "source": [
    "class Empleados:\n",
    "    def __init__(self, nombre, apellido, edad, posicion, año_inicio, vacaciones, herramientas):\n",
    "        \n",
    "        self.nombre = nombre # definimos los atributos, le estamos traduciendo qué atributos corresponden con las variables\n",
    "        self.apellido = apellido\n",
    "        self.edad = edad\n",
    "        self.posicion = posicion\n",
    "        self.año_inicio = año_inicio\n",
    "        self.vacaciones = vacaciones\n",
    "        self.herramientas = herramientas\n",
    "        \n",
    "        #ejecutamos \n",
    "               \n",
    "     \n",
    "        "
   ]
  },
  {
   "cell_type": "code",
   "execution_count": 17,
   "metadata": {},
   "outputs": [],
   "source": [
    "#Creamos una instancia para la clase Empleados\n",
    "Isa = Empleados (\"Isa\",\"Carreras\", 51, \"Dataanalytics\", 2020, 10, \"outlook, excel, word\" )\n"
   ]
  },
  {
   "cell_type": "code",
   "execution_count": null,
   "metadata": {},
   "outputs": [],
   "source": [
    "#definimos los siguientes métodos:\n",
    "# descripción\n",
    "# calculo_vacaciones\n",
    "# cambiando_posicion\n",
    "\n",
    "#Método descripcion:\n",
    "#El return deberá ser un string en el que aparezca el nombre, apellidos, los años que lleva en la empresa \n",
    "# y los días de vacaciones que le quedan. Este método deberá devolver algo como esto: \n",
    "\"El/ella, es Lorena, Data Analyst, quien lleva con nostros en la empresa desde 2000. Además este año le quedan 15 dias de vacaciones\" "
   ]
  },
  {
   "cell_type": "code",
   "execution_count": 18,
   "metadata": {},
   "outputs": [],
   "source": [
    "class Empleados:\n",
    "    def __init__(self, nombre, apellido, edad, posicion, año_inicio, vacaciones, herramientas):\n",
    "        \n",
    "        self.nombre = nombre # definimos los atributos, le estamos traduciendo qué atributos corresponden con las variables\n",
    "        self.apellido = apellido\n",
    "        self.edad = edad\n",
    "        self.posicion = posicion\n",
    "        self.año_inicio = año_inicio\n",
    "        self.vacaciones = vacaciones\n",
    "        self.herramientas = herramientas\n",
    "        \n",
    "    #definimos nuestro primer método que es la descripción:\n",
    "    \n",
    "    def descripcion(self):\n",
    "        return f\"El/Ella, es {self.nombre} {self.apellido}, {self.posicion}, quien lleva con nosotros en la empresa {self.año_inicio}. Además este año le quedan {self.vacaciones} dias de vacaciones\""
   ]
  },
  {
   "cell_type": "code",
   "execution_count": 19,
   "metadata": {},
   "outputs": [
    {
     "data": {
      "text/plain": [
       "'El/Ella, es Isa Carreras, Dataanalytics, quien lleva con nosotros en la empresa 2020. Además este año le quedan 10 dias de vacaciones'"
      ]
     },
     "execution_count": 19,
     "metadata": {},
     "output_type": "execute_result"
    }
   ],
   "source": [
    "Isa.descripcion()"
   ]
  }
 ],
 "metadata": {
  "kernelspec": {
   "display_name": "Python 3.9.7 ('base')",
   "language": "python",
   "name": "python3"
  },
  "language_info": {
   "codemirror_mode": {
    "name": "ipython",
    "version": 3
   },
   "file_extension": ".py",
   "mimetype": "text/x-python",
   "name": "python",
   "nbconvert_exporter": "python",
   "pygments_lexer": "ipython3",
   "version": "3.9.7"
  },
  "orig_nbformat": 4,
  "vscode": {
   "interpreter": {
    "hash": "0620710c65b0f5ccc651a2aa8870ae0eb4c70492424a8d7866846658189426a3"
   }
  }
 },
 "nbformat": 4,
 "nbformat_minor": 2
}
