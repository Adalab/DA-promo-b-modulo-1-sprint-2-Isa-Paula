{
 "cells": [
  {
   "cell_type": "code",
   "execution_count": 1,
   "metadata": {},
   "outputs": [],
   "source": [
    "# Ejercicio 1. Cread una función que reciba 2 números enteros en forma de string como entrada, y dé como resultado la suma (también en forma de string)\n",
    "# Condiciones:\n",
    "# Si los dos parámetros que recibe la función son strings vacíos la función nos debe devolver \"0\"\n",
    "# Si el primer parámetro es un string vacío, la función nos devuelve el valor del segundo parámetro y viceversa."
   ]
  },
  {
   "cell_type": "code",
   "execution_count": 1,
   "metadata": {},
   "outputs": [],
   "source": [
    "def sumar_strings(numero,numero2):\n",
    "    '''\n",
    "    Esta función suma dos strings\n",
    "    Args:\n",
    "        numero: un número en formato string\n",
    "        numero2: otro número en formato string\n",
    "    Returs: \n",
    "        La funcion sumar_strings nos devuelve la suma de estos dos strings.\n",
    "    '''\n",
    "    if numero == '' and numero2 == '':\n",
    "        return '0'\n",
    "    elif len(numero) == 0: # Jugamos con las len para decirle que está vacío\n",
    "        return numero2\n",
    "    elif len(numero2) == 0:\n",
    "        return numero\n",
    "    else: return str(int(numero) + int(numero2))"
   ]
  },
  {
   "cell_type": "code",
   "execution_count": 14,
   "metadata": {},
   "outputs": [],
   "source": [
    "# Probad la función para las siguientes combinaciones de \"números\"\n",
    "\n",
    "# \"4\",  \"5\" --> \"9\"\n",
    "# \"34\", \"5\" --> \"39\"\n",
    "# \"\", \"\" --> \"0\"\n",
    "# \"2\", \"\" --> \"2\"\n",
    "# \"-5\", \"3\" --> \"-2\""
   ]
  },
  {
   "cell_type": "code",
   "execution_count": 5,
   "metadata": {},
   "outputs": [
    {
     "data": {
      "text/plain": [
       "'9'"
      ]
     },
     "execution_count": 5,
     "metadata": {},
     "output_type": "execute_result"
    }
   ],
   "source": [
    "sumar_strings('4','5')"
   ]
  },
  {
   "cell_type": "code",
   "execution_count": 6,
   "metadata": {},
   "outputs": [
    {
     "data": {
      "text/plain": [
       "'39'"
      ]
     },
     "execution_count": 6,
     "metadata": {},
     "output_type": "execute_result"
    }
   ],
   "source": [
    "sumar_strings('34','5')"
   ]
  },
  {
   "cell_type": "code",
   "execution_count": 2,
   "metadata": {},
   "outputs": [
    {
     "data": {
      "text/plain": [
       "'0'"
      ]
     },
     "execution_count": 2,
     "metadata": {},
     "output_type": "execute_result"
    }
   ],
   "source": [
    "sumar_strings('','')"
   ]
  },
  {
   "cell_type": "code",
   "execution_count": 13,
   "metadata": {},
   "outputs": [
    {
     "data": {
      "text/plain": [
       "'2'"
      ]
     },
     "execution_count": 13,
     "metadata": {},
     "output_type": "execute_result"
    }
   ],
   "source": [
    "sumar_strings('2','')"
   ]
  },
  {
   "cell_type": "code",
   "execution_count": 15,
   "metadata": {},
   "outputs": [
    {
     "data": {
      "text/plain": [
       "'-2'"
      ]
     },
     "execution_count": 15,
     "metadata": {},
     "output_type": "execute_result"
    }
   ],
   "source": [
    "sumar_strings('-5','3')"
   ]
  },
  {
   "cell_type": "code",
   "execution_count": 13,
   "metadata": {},
   "outputs": [],
   "source": [
    "# Ejercicio 2. El objetivo es comparar cada par de enteros de 2 listas, y devolver una nueva lista de números grandes.\n",
    "#Probad la función para las siguientes listas: \n",
    "\n",
    "arr1 = [13, 64, 15, 17, 88]\n",
    "arr2 = [23, 14, 53, 17, 80]\n",
    "# resultado = [23, 64, 53, 17, 88]"
   ]
  },
  {
   "cell_type": "code",
   "execution_count": 11,
   "metadata": {},
   "outputs": [],
   "source": [
    "def comparacion_listas (arr1, arr2):\n",
    "    arr1t = tuple(arr1) # Converting the array into a tuple to, later, convert them into a zip\n",
    "    arr2t = tuple(arr2)\n",
    "    comparacion_de = zip(arr1t,arr2t)  # creating a zip from 2 lists, so the comparison of the max numbers can be done easily with the index of one single list\n",
    "    lista = list(comparacion_de) # creating the list from which we will compare the elements\n",
    "    resultado_ = [] \n",
    "    for i in lista: # The code is finding the maximum value of each list in the lista list.\n",
    "        m = max(i)\n",
    "        resultado_.append(m)\n",
    "    return resultado_"
   ]
  },
  {
   "cell_type": "code",
   "execution_count": 12,
   "metadata": {},
   "outputs": [
    {
     "data": {
      "text/plain": [
       "[23, 64, 53, 17, 88]"
      ]
     },
     "execution_count": 12,
     "metadata": {},
     "output_type": "execute_result"
    }
   ],
   "source": [
    "comparacion_listas (arr1, arr2)"
   ]
  },
  {
   "cell_type": "code",
   "execution_count": null,
   "metadata": {},
   "outputs": [],
   "source": [
    "# Ejercicio 3. El objetivo de este ejercicio es convertir un string en un nuevo string en el que cada carácter del nuevo \n",
    "# string es \"(\" si ese carácter aparece sólo una vez en el string original, o \")\" si ese carácter aparece más de una vez \n",
    "# en el string. Nuestro código no tiene que ser case sensitive, es decir, si hay una letra en mayúscula y en minúscula \n",
    "# cuenta como dos apariciones."
   ]
  },
  {
   "cell_type": "code",
   "execution_count": 1,
   "metadata": {},
   "outputs": [],
   "source": [
    "xs = 'alohah' # Primero quiero comprobar como puedo decirle a python que me mire si una letra está repetida"
   ]
  },
  {
   "cell_type": "code",
   "execution_count": 3,
   "metadata": {},
   "outputs": [
    {
     "data": {
      "text/plain": [
       "2"
      ]
     },
     "execution_count": 3,
     "metadata": {},
     "output_type": "execute_result"
    }
   ],
   "source": [
    "xs.count('h')   # Ahora ya se que es con el count"
   ]
  },
  {
   "cell_type": "code",
   "execution_count": 13,
   "metadata": {},
   "outputs": [],
   "source": [
    "def detectar_repetidas(str):\n",
    "    new_string = ''     # Creo un nuevo string para que me añada las letras nuevas (que convertiremos con condicion)\n",
    "    for i in str:       # Iteramos por el string\n",
    "        if str.count(i) > 1: # si la letra está repetida, aparecerá más de una vez, y python me la contará más de 1 vez\n",
    "            x = ')'         # me creas este string en caso q la condición se cumpla\n",
    "            new_string += x # y me lo añades al nuevo string\n",
    "        else:\n",
    "            y = '('\n",
    "            new_string += y\n",
    "    return new_string   # devuelveme el nuevo string"
   ]
  },
  {
   "cell_type": "code",
   "execution_count": 5,
   "metadata": {},
   "outputs": [],
   "source": [
    "#Probad la función para los siguientes strings \n",
    "#\"din\"      =>  \"(((\"\n",
    "#\"recede\"   =>  \"()()()\"\n",
    "#\"Success\"  =>  \")())())\"\n",
    "#\"(( @\"     =>  \"))((\" \n",
    "#\"Ocvl@GamFLAFkixkS\" => \"((()(()()))))(()(\""
   ]
  },
  {
   "cell_type": "code",
   "execution_count": 14,
   "metadata": {},
   "outputs": [
    {
     "data": {
      "text/plain": [
       "'((('"
      ]
     },
     "execution_count": 14,
     "metadata": {},
     "output_type": "execute_result"
    }
   ],
   "source": [
    "detectar_repetidas('din')"
   ]
  },
  {
   "cell_type": "code",
   "execution_count": 15,
   "metadata": {},
   "outputs": [
    {
     "data": {
      "text/plain": [
       "'()()()'"
      ]
     },
     "execution_count": 15,
     "metadata": {},
     "output_type": "execute_result"
    }
   ],
   "source": [
    "detectar_repetidas ('recede')"
   ]
  },
  {
   "cell_type": "code",
   "execution_count": 16,
   "metadata": {},
   "outputs": [
    {
     "data": {
      "text/plain": [
       "'(())())'"
      ]
     },
     "execution_count": 16,
     "metadata": {},
     "output_type": "execute_result"
    }
   ],
   "source": [
    "detectar_repetidas('Success')"
   ]
  },
  {
   "cell_type": "code",
   "execution_count": 17,
   "metadata": {},
   "outputs": [
    {
     "data": {
      "text/plain": [
       "'))(('"
      ]
     },
     "execution_count": 17,
     "metadata": {},
     "output_type": "execute_result"
    }
   ],
   "source": [
    "detectar_repetidas('(( @')"
   ]
  },
  {
   "cell_type": "code",
   "execution_count": 18,
   "metadata": {},
   "outputs": [
    {
     "data": {
      "text/plain": [
       "'(((((((()(())(()('"
      ]
     },
     "execution_count": 18,
     "metadata": {},
     "output_type": "execute_result"
    }
   ],
   "source": [
    "detectar_repetidas('Ocvl@GamFLAFkixkS')"
   ]
  },
  {
   "cell_type": "code",
   "execution_count": null,
   "metadata": {},
   "outputs": [],
   "source": [
    "# BONUS . 4. A Pete le gusta hacer pasteles. Tiene algunas recetas e ingredientes. \n",
    "# Desgraciadamente, no se le dan bien las matemáticas. ¿Puedes ayudarle a averiguar cuántas \n",
    "# tartas puede hacer teniendo en cuenta sus recetas?"
   ]
  },
  {
   "cell_type": "markdown",
   "metadata": {},
   "source": [
    "Escribid una función,  que tome la receta (diccionario) y los ingredientes disponibles (también un diccionario) y devuelva el número máximo de pasteles que Pete puede hornear (entero). Para simplificar, no hay unidades para las cantidades (por ejemplo, 1 libra de harina o 200 g de azúcar son simplemente 1 o 200). Los ingredientes que no están presentes en los diccionarios, pueden ser considerados como 0.\n",
    "\n",
    "```\n",
    "Probad con los siguientes diccionarios: \n",
    "\n",
    "RECETA {'flour': 500, 'sugar': 200, 'eggs': 1}, \n",
    "INGREDIENTES {'flour': 1200, 'sugar': 1200, 'eggs': 5, 'milk': 200}\n",
    "\n",
    "RESULTADO: 2 \n",
    "----------\n",
    "\n",
    "RECETA {'apples': 3, 'flour': 300, 'sugar': 150, 'milk': 100, 'oil': 100}\n",
    "INGREDIENTES {'sugar': 500, 'flour': 2000, 'milk': 2000}\n",
    "\n",
    "RESULTADO 0\n",
    "``` \n",
    "**Pista**: Nuestra función recibirá dos parámetros. "
   ]
  },
  {
   "cell_type": "code",
   "execution_count": 23,
   "metadata": {},
   "outputs": [],
   "source": [
    "receta1 = {'flour': 500, 'sugar': 200, 'eggs': 1}\n",
    "ingredientes1 = {'flour': 1200, 'sugar': 1200, 'eggs': 5, 'milk': 200}\n",
    "\n",
    "receta2 = {'apples': 3, 'flour': 300, 'sugar': 150, 'milk': 100, 'oil': 100}\n",
    "ingredientes2 = {'sugar': 500, 'flour': 2000, 'milk': 2000}"
   ]
  },
  {
   "cell_type": "code",
   "execution_count": 24,
   "metadata": {},
   "outputs": [],
   "source": [
    "def receta (ingredientes,receta):\n",
    "    z = zip(ingredientes.values(),receta.values())\n",
    "    l = list(z)\n",
    "    unidades = []\n",
    "    for x, y in l:\n",
    "        m = x/y #divido cada ingrediente por la receta para saber cuantas unidades puedo hacer con ese material\n",
    "        unidades.append(m)\n",
    "        s = tuple(unidades) #no puedo hacer el minimo en una lista, lo hago con tupla\n",
    "        s = int(min(s))\n",
    "    return s "
   ]
  },
  {
   "cell_type": "code",
   "execution_count": 25,
   "metadata": {},
   "outputs": [
    {
     "data": {
      "text/plain": [
       "2"
      ]
     },
     "execution_count": 25,
     "metadata": {},
     "output_type": "execute_result"
    }
   ],
   "source": [
    "receta (ingredientes1,receta1)"
   ]
  },
  {
   "cell_type": "code",
   "execution_count": 26,
   "metadata": {},
   "outputs": [
    {
     "data": {
      "text/plain": [
       "6"
      ]
     },
     "execution_count": 26,
     "metadata": {},
     "output_type": "execute_result"
    }
   ],
   "source": [
    "receta (ingredientes2,receta2)"
   ]
  },
  {
   "cell_type": "code",
   "execution_count": null,
   "metadata": {},
   "outputs": [],
   "source": [
    "# BONUS. 5. Escribid una función que va a ser una calculadora. La lista recibirá dos parámetros, \n",
    "# una lista de números y un string con la operación que queremos hacer (puede ser \"*\", \"+\")"
   ]
  },
  {
   "cell_type": "markdown",
   "metadata": {},
   "source": [
    "``` \n",
    "Probad con los siguientes inputs\n",
    "\n",
    "lista1 = [11, 6, 98, 1, 2] , \"*\"\n",
    "RESULTADO 12936\n",
    "\n",
    "-----------------------------------\n",
    "lista2 = [23,34, 56, 11, 90] , \"+\"\n",
    "RESULTADO 214\n",
    "\n",
    "-----------------------------------\n",
    "lista3 = [23, 4,109 , 94, 77] , \"-\"\n",
    "RESULTADO 'Lo siento, necesito que me pases una operación valida.'\n",
    "```"
   ]
  },
  {
   "cell_type": "code",
   "execution_count": 246,
   "metadata": {},
   "outputs": [],
   "source": [
    "lista1 = [11, 6, 98, 1, 2] , \"*\"\n",
    "lista2 = [23,34, 56, 11, 90] , \"+\"\n",
    "lista3 = [23, 4,109 , 94, 77] , \"-\""
   ]
  },
  {
   "cell_type": "code",
   "execution_count": 274,
   "metadata": {},
   "outputs": [
    {
     "name": "stderr",
     "output_type": "stream",
     "text": [
      "<>:5: SyntaxWarning: \"is\" with a literal. Did you mean \"==\"?\n",
      "<>:7: SyntaxWarning: \"is\" with a literal. Did you mean \"==\"?\n",
      "<>:9: SyntaxWarning: \"is\" with a literal. Did you mean \"==\"?\n",
      "<>:5: SyntaxWarning: \"is\" with a literal. Did you mean \"==\"?\n",
      "<>:7: SyntaxWarning: \"is\" with a literal. Did you mean \"==\"?\n",
      "<>:9: SyntaxWarning: \"is\" with a literal. Did you mean \"==\"?\n",
      "/var/folders/fk/9dj5qplx5dv2l_dlsz8sf1pw0000gn/T/ipykernel_71891/1975596696.py:5: SyntaxWarning: \"is\" with a literal. Did you mean \"==\"?\n",
      "  if tupla[1] is '*':\n",
      "/var/folders/fk/9dj5qplx5dv2l_dlsz8sf1pw0000gn/T/ipykernel_71891/1975596696.py:7: SyntaxWarning: \"is\" with a literal. Did you mean \"==\"?\n",
      "  elif tupla[1] is '+':\n",
      "/var/folders/fk/9dj5qplx5dv2l_dlsz8sf1pw0000gn/T/ipykernel_71891/1975596696.py:9: SyntaxWarning: \"is\" with a literal. Did you mean \"==\"?\n",
      "  elif tupla[1] is '-':\n"
     ]
    }
   ],
   "source": [
    "def calculadora (tupla):\n",
    "    import math # Para multiplicar\n",
    "    from functools import reduce # Para restar\n",
    "    result = 0  # Para que no me diga que ha estado referenciada before assigment\n",
    "    if tupla[1] is '*':\n",
    "        result = math.prod(tupla[0])\n",
    "    elif tupla[1] is '+':\n",
    "        result = sum(tupla[0])\n",
    "    elif tupla[1] is '-':\n",
    "        try:\n",
    "            result = reduce(tupla)\n",
    "        except: TypeError\n",
    "        print('Lo siento, necesito que me pases una operación valida')\n",
    "    if result > 0: # Le digo que me devuelva el return solo en caso que result sea mayor que 0 para que no me devuelva la variable inicial\n",
    "        return result\n",
    "    else:\n",
    "        pass\n",
    "    "
   ]
  },
  {
   "cell_type": "code",
   "execution_count": 275,
   "metadata": {},
   "outputs": [
    {
     "data": {
      "text/plain": [
       "12936"
      ]
     },
     "execution_count": 275,
     "metadata": {},
     "output_type": "execute_result"
    }
   ],
   "source": [
    "calculadora(lista1)"
   ]
  },
  {
   "cell_type": "code",
   "execution_count": 276,
   "metadata": {},
   "outputs": [
    {
     "data": {
      "text/plain": [
       "214"
      ]
     },
     "execution_count": 276,
     "metadata": {},
     "output_type": "execute_result"
    }
   ],
   "source": [
    "calculadora(lista2)"
   ]
  },
  {
   "cell_type": "code",
   "execution_count": 277,
   "metadata": {},
   "outputs": [
    {
     "name": "stdout",
     "output_type": "stream",
     "text": [
      "Lo siento, necesito que me pases una operación valida\n"
     ]
    }
   ],
   "source": [
    "calculadora(lista3)"
   ]
  },
  {
   "cell_type": "code",
   "execution_count": null,
   "metadata": {},
   "outputs": [],
   "source": []
  }
 ],
 "metadata": {
  "kernelspec": {
   "display_name": "Python 3.9.7 ('base')",
   "language": "python",
   "name": "python3"
  },
  "language_info": {
   "codemirror_mode": {
    "name": "ipython",
    "version": 3
   },
   "file_extension": ".py",
   "mimetype": "text/x-python",
   "name": "python",
   "nbconvert_exporter": "python",
   "pygments_lexer": "ipython3",
   "version": "3.9.7"
  },
  "orig_nbformat": 4,
  "vscode": {
   "interpreter": {
    "hash": "40d3a090f54c6569ab1632332b64b2c03c39dcf918b08424e98f38b5ae0af88f"
   }
  }
 },
 "nbformat": 4,
 "nbformat_minor": 2
}
